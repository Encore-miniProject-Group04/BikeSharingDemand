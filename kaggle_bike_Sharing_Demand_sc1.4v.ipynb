{
 "cells": [
  {
   "cell_type": "markdown",
   "metadata": {},
   "source": [
    "시작"
   ]
  },
  {
   "cell_type": "code",
   "execution_count": 1,
   "metadata": {},
   "outputs": [
    {
     "name": "stdout",
     "output_type": "stream",
     "text": [
      "['sampleSubmission.csv', 'test.csv', 'train.csv']\n"
     ]
    }
   ],
   "source": [
    "\n",
    "import warnings\n",
    "warnings.filterwarnings('ignore')\n",
    "\n",
    "import numpy as np \n",
    "import pandas as pd \n",
    "import seaborn as sns #시각화를 위한 라이브러리\n",
    "import matplotlib.pyplot as plt\n",
    "import calendar \n",
    "from datetime import datetime\n",
    "\n",
    "import os\n",
    "print(os.listdir(\"./input\"))"
   ]
  },
  {
   "cell_type": "code",
   "execution_count": 2,
   "metadata": {},
   "outputs": [],
   "source": [
    "#훈련데이터와 테스트 데이터 세트를 불러온다\n",
    "train = pd.read_csv('./input/train.csv')\n",
    "test = pd.read_csv('./input/test.csv')"
   ]
  },
  {
   "cell_type": "code",
   "execution_count": 3,
   "metadata": {},
   "outputs": [],
   "source": [
    "train['datetime'] = pd.to_datetime(train['datetime'])\n",
    "test['datetime'] = pd.to_datetime(test['datetime'])\n",
    "# datetime을 년,월,일,시 값으로 나누어서 확인\n",
    "train['year'] = train.datetime.dt.year\n",
    "train['month'] = train.datetime.dt.month\n",
    "train['day'] = train.datetime.dt.day\n",
    "train['hour'] = train.datetime.dt.hour\n",
    "train['dayofweek'] = train.datetime.dt.dayofweek\n",
    "\n",
    "test['year'] = test.datetime.dt.year\n",
    "test['month'] =test.datetime.dt.month\n",
    "test['day'] = test.datetime.dt.day\n",
    "test['hour'] = test.datetime.dt.hour\n",
    "test['dayofweek'] = test.datetime.dt.dayofweek"
   ]
  },
  {
   "cell_type": "code",
   "execution_count": 4,
   "metadata": {},
   "outputs": [],
   "source": [
    "# 필요 없는 특성 제거\n",
    "train.columns, test.columns\n",
    "del_train=['datetime','casual','registered']\n",
    "train.drop(del_train, axis=1,inplace=True)\n",
    "test.drop('datetime', axis=1,inplace=True)"
   ]
  },
  {
   "cell_type": "markdown",
   "metadata": {},
   "source": [
    "추가로 필요 없는 특성을 찾기 위해 이것저것 지워보자"
   ]
  },
  {
   "cell_type": "code",
   "execution_count": 5,
   "metadata": {},
   "outputs": [],
   "source": [
    "train.drop('windspeed', axis=1,inplace=True)\n",
    "test.drop('windspeed', axis=1,inplace=True)"
   ]
  },
  {
   "cell_type": "markdown",
   "metadata": {},
   "source": [
    "최종 tarin, test 값"
   ]
  },
  {
   "cell_type": "code",
   "execution_count": 6,
   "metadata": {},
   "outputs": [
    {
     "data": {
      "text/html": [
       "<div>\n",
       "<style scoped>\n",
       "    .dataframe tbody tr th:only-of-type {\n",
       "        vertical-align: middle;\n",
       "    }\n",
       "\n",
       "    .dataframe tbody tr th {\n",
       "        vertical-align: top;\n",
       "    }\n",
       "\n",
       "    .dataframe thead th {\n",
       "        text-align: right;\n",
       "    }\n",
       "</style>\n",
       "<table border=\"1\" class=\"dataframe\">\n",
       "  <thead>\n",
       "    <tr style=\"text-align: right;\">\n",
       "      <th></th>\n",
       "      <th>season</th>\n",
       "      <th>holiday</th>\n",
       "      <th>workingday</th>\n",
       "      <th>weather</th>\n",
       "      <th>temp</th>\n",
       "      <th>atemp</th>\n",
       "      <th>humidity</th>\n",
       "      <th>count</th>\n",
       "      <th>year</th>\n",
       "      <th>month</th>\n",
       "      <th>day</th>\n",
       "      <th>hour</th>\n",
       "      <th>dayofweek</th>\n",
       "    </tr>\n",
       "  </thead>\n",
       "  <tbody>\n",
       "    <tr>\n",
       "      <th>0</th>\n",
       "      <td>1</td>\n",
       "      <td>0</td>\n",
       "      <td>0</td>\n",
       "      <td>1</td>\n",
       "      <td>9.84</td>\n",
       "      <td>14.395</td>\n",
       "      <td>81</td>\n",
       "      <td>16</td>\n",
       "      <td>2011</td>\n",
       "      <td>1</td>\n",
       "      <td>1</td>\n",
       "      <td>0</td>\n",
       "      <td>5</td>\n",
       "    </tr>\n",
       "    <tr>\n",
       "      <th>1</th>\n",
       "      <td>1</td>\n",
       "      <td>0</td>\n",
       "      <td>0</td>\n",
       "      <td>1</td>\n",
       "      <td>9.02</td>\n",
       "      <td>13.635</td>\n",
       "      <td>80</td>\n",
       "      <td>40</td>\n",
       "      <td>2011</td>\n",
       "      <td>1</td>\n",
       "      <td>1</td>\n",
       "      <td>1</td>\n",
       "      <td>5</td>\n",
       "    </tr>\n",
       "    <tr>\n",
       "      <th>2</th>\n",
       "      <td>1</td>\n",
       "      <td>0</td>\n",
       "      <td>0</td>\n",
       "      <td>1</td>\n",
       "      <td>9.02</td>\n",
       "      <td>13.635</td>\n",
       "      <td>80</td>\n",
       "      <td>32</td>\n",
       "      <td>2011</td>\n",
       "      <td>1</td>\n",
       "      <td>1</td>\n",
       "      <td>2</td>\n",
       "      <td>5</td>\n",
       "    </tr>\n",
       "    <tr>\n",
       "      <th>3</th>\n",
       "      <td>1</td>\n",
       "      <td>0</td>\n",
       "      <td>0</td>\n",
       "      <td>1</td>\n",
       "      <td>9.84</td>\n",
       "      <td>14.395</td>\n",
       "      <td>75</td>\n",
       "      <td>13</td>\n",
       "      <td>2011</td>\n",
       "      <td>1</td>\n",
       "      <td>1</td>\n",
       "      <td>3</td>\n",
       "      <td>5</td>\n",
       "    </tr>\n",
       "    <tr>\n",
       "      <th>4</th>\n",
       "      <td>1</td>\n",
       "      <td>0</td>\n",
       "      <td>0</td>\n",
       "      <td>1</td>\n",
       "      <td>9.84</td>\n",
       "      <td>14.395</td>\n",
       "      <td>75</td>\n",
       "      <td>1</td>\n",
       "      <td>2011</td>\n",
       "      <td>1</td>\n",
       "      <td>1</td>\n",
       "      <td>4</td>\n",
       "      <td>5</td>\n",
       "    </tr>\n",
       "  </tbody>\n",
       "</table>\n",
       "</div>"
      ],
      "text/plain": [
       "   season  holiday  workingday  weather  temp   atemp  humidity  count  year  \\\n",
       "0       1        0           0        1  9.84  14.395        81     16  2011   \n",
       "1       1        0           0        1  9.02  13.635        80     40  2011   \n",
       "2       1        0           0        1  9.02  13.635        80     32  2011   \n",
       "3       1        0           0        1  9.84  14.395        75     13  2011   \n",
       "4       1        0           0        1  9.84  14.395        75      1  2011   \n",
       "\n",
       "   month  day  hour  dayofweek  \n",
       "0      1    1     0          5  \n",
       "1      1    1     1          5  \n",
       "2      1    1     2          5  \n",
       "3      1    1     3          5  \n",
       "4      1    1     4          5  "
      ]
     },
     "execution_count": 6,
     "metadata": {},
     "output_type": "execute_result"
    }
   ],
   "source": [
    "train.head()"
   ]
  },
  {
   "cell_type": "code",
   "execution_count": 7,
   "metadata": {},
   "outputs": [
    {
     "data": {
      "text/html": [
       "<div>\n",
       "<style scoped>\n",
       "    .dataframe tbody tr th:only-of-type {\n",
       "        vertical-align: middle;\n",
       "    }\n",
       "\n",
       "    .dataframe tbody tr th {\n",
       "        vertical-align: top;\n",
       "    }\n",
       "\n",
       "    .dataframe thead th {\n",
       "        text-align: right;\n",
       "    }\n",
       "</style>\n",
       "<table border=\"1\" class=\"dataframe\">\n",
       "  <thead>\n",
       "    <tr style=\"text-align: right;\">\n",
       "      <th></th>\n",
       "      <th>season</th>\n",
       "      <th>holiday</th>\n",
       "      <th>workingday</th>\n",
       "      <th>weather</th>\n",
       "      <th>temp</th>\n",
       "      <th>atemp</th>\n",
       "      <th>humidity</th>\n",
       "      <th>year</th>\n",
       "      <th>month</th>\n",
       "      <th>day</th>\n",
       "      <th>hour</th>\n",
       "      <th>dayofweek</th>\n",
       "    </tr>\n",
       "  </thead>\n",
       "  <tbody>\n",
       "    <tr>\n",
       "      <th>0</th>\n",
       "      <td>1</td>\n",
       "      <td>0</td>\n",
       "      <td>1</td>\n",
       "      <td>1</td>\n",
       "      <td>10.66</td>\n",
       "      <td>11.365</td>\n",
       "      <td>56</td>\n",
       "      <td>2011</td>\n",
       "      <td>1</td>\n",
       "      <td>20</td>\n",
       "      <td>0</td>\n",
       "      <td>3</td>\n",
       "    </tr>\n",
       "    <tr>\n",
       "      <th>1</th>\n",
       "      <td>1</td>\n",
       "      <td>0</td>\n",
       "      <td>1</td>\n",
       "      <td>1</td>\n",
       "      <td>10.66</td>\n",
       "      <td>13.635</td>\n",
       "      <td>56</td>\n",
       "      <td>2011</td>\n",
       "      <td>1</td>\n",
       "      <td>20</td>\n",
       "      <td>1</td>\n",
       "      <td>3</td>\n",
       "    </tr>\n",
       "    <tr>\n",
       "      <th>2</th>\n",
       "      <td>1</td>\n",
       "      <td>0</td>\n",
       "      <td>1</td>\n",
       "      <td>1</td>\n",
       "      <td>10.66</td>\n",
       "      <td>13.635</td>\n",
       "      <td>56</td>\n",
       "      <td>2011</td>\n",
       "      <td>1</td>\n",
       "      <td>20</td>\n",
       "      <td>2</td>\n",
       "      <td>3</td>\n",
       "    </tr>\n",
       "    <tr>\n",
       "      <th>3</th>\n",
       "      <td>1</td>\n",
       "      <td>0</td>\n",
       "      <td>1</td>\n",
       "      <td>1</td>\n",
       "      <td>10.66</td>\n",
       "      <td>12.880</td>\n",
       "      <td>56</td>\n",
       "      <td>2011</td>\n",
       "      <td>1</td>\n",
       "      <td>20</td>\n",
       "      <td>3</td>\n",
       "      <td>3</td>\n",
       "    </tr>\n",
       "    <tr>\n",
       "      <th>4</th>\n",
       "      <td>1</td>\n",
       "      <td>0</td>\n",
       "      <td>1</td>\n",
       "      <td>1</td>\n",
       "      <td>10.66</td>\n",
       "      <td>12.880</td>\n",
       "      <td>56</td>\n",
       "      <td>2011</td>\n",
       "      <td>1</td>\n",
       "      <td>20</td>\n",
       "      <td>4</td>\n",
       "      <td>3</td>\n",
       "    </tr>\n",
       "  </tbody>\n",
       "</table>\n",
       "</div>"
      ],
      "text/plain": [
       "   season  holiday  workingday  weather   temp   atemp  humidity  year  month  \\\n",
       "0       1        0           1        1  10.66  11.365        56  2011      1   \n",
       "1       1        0           1        1  10.66  13.635        56  2011      1   \n",
       "2       1        0           1        1  10.66  13.635        56  2011      1   \n",
       "3       1        0           1        1  10.66  12.880        56  2011      1   \n",
       "4       1        0           1        1  10.66  12.880        56  2011      1   \n",
       "\n",
       "   day  hour  dayofweek  \n",
       "0   20     0          3  \n",
       "1   20     1          3  \n",
       "2   20     2          3  \n",
       "3   20     3          3  \n",
       "4   20     4          3  "
      ]
     },
     "execution_count": 7,
     "metadata": {},
     "output_type": "execute_result"
    }
   ],
   "source": [
    "test.head()"
   ]
  },
  {
   "cell_type": "code",
   "execution_count": 41,
   "metadata": {},
   "outputs": [
    {
     "name": "stdout",
     "output_type": "stream",
     "text": [
      "<class 'pandas.core.frame.DataFrame'>\n",
      "RangeIndex: 10886 entries, 0 to 10885\n",
      "Data columns (total 13 columns):\n",
      " #   Column      Non-Null Count  Dtype  \n",
      "---  ------      --------------  -----  \n",
      " 0   season      10886 non-null  int64  \n",
      " 1   holiday     10886 non-null  int64  \n",
      " 2   workingday  10886 non-null  int64  \n",
      " 3   weather     10886 non-null  int64  \n",
      " 4   temp        10886 non-null  float64\n",
      " 5   atemp       10886 non-null  float64\n",
      " 6   humidity    10886 non-null  int64  \n",
      " 7   count       10886 non-null  int64  \n",
      " 8   year        10886 non-null  int64  \n",
      " 9   month       10886 non-null  int64  \n",
      " 10  day         10886 non-null  int64  \n",
      " 11  hour        10886 non-null  int64  \n",
      " 12  dayofweek   10886 non-null  int64  \n",
      "dtypes: float64(2), int64(11)\n",
      "memory usage: 1.1 MB\n"
     ]
    }
   ],
   "source": [
    "train.info()"
   ]
  },
  {
   "cell_type": "code",
   "execution_count": 42,
   "metadata": {},
   "outputs": [
    {
     "name": "stdout",
     "output_type": "stream",
     "text": [
      "<class 'pandas.core.frame.DataFrame'>\n",
      "RangeIndex: 6493 entries, 0 to 6492\n",
      "Data columns (total 12 columns):\n",
      " #   Column      Non-Null Count  Dtype  \n",
      "---  ------      --------------  -----  \n",
      " 0   season      6493 non-null   int64  \n",
      " 1   holiday     6493 non-null   int64  \n",
      " 2   workingday  6493 non-null   int64  \n",
      " 3   weather     6493 non-null   int64  \n",
      " 4   temp        6493 non-null   float64\n",
      " 5   atemp       6493 non-null   float64\n",
      " 6   humidity    6493 non-null   int64  \n",
      " 7   year        6493 non-null   int64  \n",
      " 8   month       6493 non-null   int64  \n",
      " 9   day         6493 non-null   int64  \n",
      " 10  hour        6493 non-null   int64  \n",
      " 11  dayofweek   6493 non-null   int64  \n",
      "dtypes: float64(2), int64(10)\n",
      "memory usage: 608.8 KB\n"
     ]
    }
   ],
   "source": [
    "test.info()"
   ]
  },
  {
   "cell_type": "markdown",
   "metadata": {},
   "source": [
    "모델 평가"
   ]
  },
  {
   "cell_type": "code",
   "execution_count": 8,
   "metadata": {},
   "outputs": [],
   "source": [
    "# y is predict value y_ is actual value\n",
    "def rmsle(y, y_,convertExp=True):\n",
    "    if convertExp:\n",
    "        y = np.exp(y), \n",
    "        y_ = np.exp(y_)\n",
    "    log1 = np.nan_to_num(np.array([np.log(v + 1) for v in y]))\n",
    "    log2 = np.nan_to_num(np.array([np.log(v + 1) for v in y_]))\n",
    "    calc = (log1 - log2) ** 2\n",
    "    return np.sqrt(np.mean(calc))"
   ]
  },
  {
   "cell_type": "code",
   "execution_count": 9,
   "metadata": {},
   "outputs": [],
   "source": [
    "from sklearn.model_selection import train_test_split\n",
    "target = train['count']\n",
    "features = train.drop(columns=['count'])\n",
    "target = np.log1p(target)\n",
    "train_input, test_input, train_target, test_target = train_test_split(\n",
    "    features,target, random_state=42\n",
    ")"
   ]
  },
  {
   "cell_type": "markdown",
   "metadata": {},
   "source": [
    "선형회귀"
   ]
  },
  {
   "cell_type": "code",
   "execution_count": 13,
   "metadata": {},
   "outputs": [
    {
     "name": "stdout",
     "output_type": "stream",
     "text": [
      "0.4897471682664274\n",
      "0.4790748778123245\n",
      "RMSLE Value for LinearRegression 1.02084396045903\n"
     ]
    }
   ],
   "source": [
    "from sklearn.linear_model import LinearRegression,Ridge,Lasso\n",
    "lr = LinearRegression()\n",
    "\n",
    "lr.fit(train_input,train_target)\n",
    "print(lr.score(train_input,train_target))\n",
    "print(lr.score(test_input,test_target))\n",
    "# 성능평가\n",
    "pred = lr.predict(test_input)\n",
    "# 다시 지수로\n",
    "test_target_exp = np.expm1(test_target)\n",
    "pred_exp = np.expm1(pred)\n",
    "print('RMSLE Value for LinearRegression {}'.format(rmsle(test_target_exp,pred_exp,False)))"
   ]
  },
  {
   "cell_type": "markdown",
   "metadata": {},
   "source": [
    "사이킷런의 변환기"
   ]
  },
  {
   "cell_type": "code",
   "execution_count": 17,
   "metadata": {},
   "outputs": [
    {
     "name": "stdout",
     "output_type": "stream",
     "text": [
      "(8164, 91)\n"
     ]
    }
   ],
   "source": [
    "# 사이킷런 변환기 적용\n",
    "from sklearn.preprocessing import PolynomialFeatures\n",
    "poly = PolynomialFeatures()\n",
    "poly.fit(train_input)\n",
    "train_poly = poly.transform(train_input)\n",
    "test_poly = poly.transform(test_input)\n",
    "print(train_poly.shape)"
   ]
  },
  {
   "cell_type": "code",
   "execution_count": 18,
   "metadata": {},
   "outputs": [
    {
     "name": "stdout",
     "output_type": "stream",
     "text": [
      "(8164, 91)\n",
      "0.6408120114871179\n",
      "0.629729849784415\n",
      "RMSLE Value 0.8606588992698018\n"
     ]
    }
   ],
   "source": [
    "target = train['count']\n",
    "features = train.drop(columns=['count'])\n",
    "\n",
    "target_log = np.log1p(target)\n",
    "\n",
    "train_input,test_input,train_target,test_target = train_test_split(features,target_log,random_state=42)\n",
    "\n",
    "# 사이킷런 변환기 적용\n",
    "poly = PolynomialFeatures()\n",
    "poly.fit(train_input)\n",
    "train_poly = poly.transform(train_input)\n",
    "test_poly = poly.transform(test_input)\n",
    "print(train_poly.shape)\n",
    "\n",
    "# 다중 회귀 모델 훈련\n",
    "lr = LinearRegression()\n",
    "lr.fit(train_poly,train_target)\n",
    "print(lr.score(train_poly,train_target))\n",
    "print(lr.score(test_poly,test_target))\n",
    "\n",
    "# 성능평가\n",
    "pred = lr.predict(test_poly)\n",
    "\n",
    "# 다시 지수로 바꾸기\n",
    "test_target_exp = np.expm1(test_target)\n",
    "pred_exp = np.expm1(pred)\n",
    "print('RMSLE Value {}'.format(rmsle(test_target_exp,pred_exp,False)))"
   ]
  },
  {
   "cell_type": "markdown",
   "metadata": {},
   "source": [
    "스케일 적용"
   ]
  },
  {
   "cell_type": "code",
   "execution_count": 52,
   "metadata": {},
   "outputs": [
    {
     "name": "stdout",
     "output_type": "stream",
     "text": [
      "0.6408085753227678\n",
      "0.6297366916222058\n",
      "RMSLE Value 0.8606509476218218\n"
     ]
    }
   ],
   "source": [
    "# 스케일 적용\n",
    "from sklearn.preprocessing import StandardScaler\n",
    "\n",
    "target = train['count']\n",
    "features = train.drop(columns=['count'])\n",
    "\n",
    "target_log = np.log1p(target)\n",
    "\n",
    "train_input,test_input,train_target,test_target = train_test_split(features,target_log,random_state=42)\n",
    "\n",
    "# 사이킷런 변환기 적용\n",
    "poly = PolynomialFeatures()\n",
    "poly.fit(train_input)\n",
    "train_poly = poly.transform(train_input)\n",
    "test_poly = poly.transform(test_input)\n",
    "\n",
    "# 특성 스케일 적용\n",
    "ss=StandardScaler()\n",
    "ss.fit(train_poly)\n",
    "train_scaled = ss.transform(train_poly)\n",
    "test_scaled = ss.transform(test_poly)\n",
    "\n",
    "# 다중 회귀 모델 훈련\n",
    "lr = LinearRegression()\n",
    "lr.fit(train_scaled,train_target)\n",
    "print(lr.score(train_scaled,train_target))\n",
    "print(lr.score(test_scaled,test_target))\n",
    "\n",
    "# 성능평가\n",
    "pred = lr.predict(test_scaled)\n",
    "\n",
    "# 다시 지수로 바꾸기\n",
    "test_target_exp = np.expm1(test_target)\n",
    "pred_exp = np.expm1(pred)\n",
    "# evaluate_regr(test_target_exp,pred_exp)\n",
    "print('RMSLE Value {}'.format(rmsle(test_target_exp,pred_exp,False)))"
   ]
  },
  {
   "cell_type": "markdown",
   "metadata": {},
   "source": [
    "릿지 회귀 와 그리드 서치"
   ]
  },
  {
   "cell_type": "code",
   "execution_count": 55,
   "metadata": {},
   "outputs": [
    {
     "name": "stdout",
     "output_type": "stream",
     "text": [
      "make_scorer(rmsle, greater_is_better=False)\n",
      "-inf\n",
      "-inf\n",
      "{'alpha': 0.001, 'max_iter': 3000}\n",
      "RMSLE Value inf\n"
     ]
    }
   ],
   "source": [
    "from sklearn.linear_model import Ridge\n",
    "from sklearn.model_selection import GridSearchCV\n",
    "from sklearn import metrics\n",
    "# 스케일 적용\n",
    "from sklearn.preprocessing import StandardScaler\n",
    "\n",
    "target = train['count']\n",
    "features = train.drop(columns=['count'])\n",
    "\n",
    "target_log = np.log1p(target)\n",
    "\n",
    "train_input,test_input,train_target,test_target = train_test_split(features,target,random_state=42)\n",
    "\n",
    "# 사이킷런 변환기 적용\n",
    "poly = PolynomialFeatures()\n",
    "poly.fit(train_input)\n",
    "train_poly = poly.transform(train_input)\n",
    "test_poly = poly.transform(test_input)\n",
    "\n",
    "# 특성 스케일 적용\n",
    "ss=StandardScaler()\n",
    "ss.fit(train_poly)\n",
    "train_scaled = ss.transform(train_poly)\n",
    "test_scaled = ss.transform(test_poly)\n",
    "\n",
    "#릿지 회귀\n",
    "ridge = Ridge()\n",
    "ridge_params = {'max_iter':[3000],'alpha':[0.001,0.01,0.1,1,10,100,1000]}\n",
    "rmsle_scorer = metrics.make_scorer(rmsle,greater_is_better=False)\n",
    "grid_ridge = GridSearchCV(ridge,ridge_params,scoring=rmsle_scorer,cv=5)\n",
    "\n",
    "\n",
    "grid_ridge.fit(train_scaled, train_target)\n",
    "print(grid_ridge.score(train_scaled, train_target))\n",
    "print(grid_ridge.score(test_scaled,test_target))\n",
    "\n",
    "# 성능평가\n",
    "pred = grid_ridge.predict(test_scaled)\n",
    "\n",
    "# 다시 지수로 바꾸기\n",
    "test_target_exp = np.expm1(test_target)\n",
    "pred_exp = np.expm1(pred)\n",
    "# evaluate_regr(test_target_exp,pred_exp)\n",
    "print(grid_ridge.best_params_)\n",
    "print('RMSLE Value {}'.format(rmsle(test_target_exp,pred_exp,False)))"
   ]
  },
  {
   "cell_type": "markdown",
   "metadata": {},
   "source": [
    "릿지 모델의 알파 값 찾기"
   ]
  },
  {
   "cell_type": "code",
   "execution_count": 34,
   "metadata": {},
   "outputs": [
    {
     "data": {
      "text/plain": [
       "[<matplotlib.lines.Line2D at 0x1e45f114ca0>]"
      ]
     },
     "execution_count": 34,
     "metadata": {},
     "output_type": "execute_result"
    },
    {
     "data": {
      "image/png": "[encoded data removed]",
      "text/plain": [
       "<Figure size 432x288 with 1 Axes>"
      ]
     },
     "metadata": {
      "needs_background": "light"
     },
     "output_type": "display_data"
    }
   ],
   "source": [
    "# 릿지 모델의 알파 값 찾기\n",
    "alpha_list=[0.001,0.01,0.1,1,10,100]\n",
    "for alpha in alpha_list:\n",
    "    ridge = Ridge(alpha=alpha)\n",
    "    ridge.fit(train_scaled, train_target)\n",
    "    train_score.append((ridge.score(train_scaled, train_target)))\n",
    "    test_score.append((ridge.score(test_scaled,test_target)))\n",
    "\n",
    "plt.plot(np.log10(alpha_list), train_score)\n",
    "plt.plot(np.log10(alpha_list), test_score)"
   ]
  },
  {
   "cell_type": "markdown",
   "metadata": {},
   "source": [
    "라쏘 회귀"
   ]
  },
  {
   "cell_type": "code",
   "execution_count": 61,
   "metadata": {},
   "outputs": [
    {
     "name": "stdout",
     "output_type": "stream",
     "text": [
      "0.5257637131501942\n",
      "0.5205782586226129\n",
      "RMSLE Value for Lasso Regression inf\n"
     ]
    }
   ],
   "source": [
    "target = train['count']\n",
    "features = train.drop(columns=['count'])\n",
    "\n",
    "target_log = np.log1p(target)\n",
    "\n",
    "train_input,test_input,train_target,test_target = train_test_split(features,target,random_state=42)\n",
    "\n",
    "# 사이킷런 변환기 적용\n",
    "poly = PolynomialFeatures()\n",
    "poly.fit(train_input)\n",
    "train_poly = poly.transform(train_input)\n",
    "test_poly = poly.transform(test_input)\n",
    "\n",
    "# 특성 스케일 적용\n",
    "ss=StandardScaler()\n",
    "ss.fit(train_poly)\n",
    "train_scaled = ss.transform(train_poly)\n",
    "test_scaled = ss.transform(test_poly)\n",
    "\n",
    "from sklearn.linear_model import Lasso\n",
    "lasso =Lasso()\n",
    "lasso.fit(train_scaled, train_target)\n",
    "print(lasso.score(train_scaled, train_target))\n",
    "print(lasso.score(test_scaled, test_target))\n",
    "\n",
    "# lasso = Lasso()\n",
    "\n",
    "# lasso_params = {'max_iter':[3000],'alpha':[0.001,0.01,0.1,1,10,100,1000]}\n",
    "# grid_lasso = GridSearchCV(lasso,lasso_params,scoring=rmsle_scorer,cv=5)\n",
    "# grid_lasso.fit(train_scaled,train_target)\n",
    "# 성능평가\n",
    "preds = lasso.predict(test_scaled)\n",
    "\n",
    "# 다시 지수로 바꾸기\n",
    "test_target_exp = np.expm1(test_target)\n",
    "pred_exp = np.expm1(pred)\n",
    "\n",
    "\n",
    "print('RMSLE Value for Lasso Regression {}'.format(rmsle(np.exp(test_target),np.exp(pred),False)))\n",
    "\n",
    "# # 성능평가\n",
    "# pred = grid_ridge.predict(test_scaled)\n",
    "\n",
    "# # 다시 지수로 바꾸기\n",
    "# test_target_exp = np.expm1(test_target)\n",
    "# pred_exp = np.expm1(pred)\n",
    "# # evaluate_regr(test_target_exp,pred_exp)\n",
    "# print(grid_ridge.best_params_)\n",
    "# print('RMSLE Value {}'.format(rmsle(test_target_exp,pred_exp,False)))\n"
   ]
  },
  {
   "cell_type": "code",
   "execution_count": 29,
   "metadata": {},
   "outputs": [
    {
     "name": "stdout",
     "output_type": "stream",
     "text": [
      "0.5257637131501942\n",
      "0.5205782586226129\n"
     ]
    }
   ],
   "source": [
    "from sklearn.linear_model import Lasso\n",
    "lasso =Lasso()\n",
    "lasso.fit(train_scaled, train_target)\n",
    "print(lasso.score(train_scaled, train_target))\n",
    "print(lasso.score(test_scaled, test_target))"
   ]
  },
  {
   "cell_type": "markdown",
   "metadata": {},
   "source": [
    "라쏘 회귀 알파값 찾기"
   ]
  },
  {
   "cell_type": "code",
   "execution_count": 31,
   "metadata": {},
   "outputs": [
    {
     "data": {
      "text/plain": [
       "[<matplotlib.lines.Line2D at 0x1e45ef1a550>]"
      ]
     },
     "execution_count": 31,
     "metadata": {},
     "output_type": "execute_result"
    },
    {
     "data": {
      "image/png": "[encoded data removed]",
      "text/plain": [
       "<Figure size 432x288 with 1 Axes>"
      ]
     },
     "metadata": {
      "needs_background": "light"
     },
     "output_type": "display_data"
    }
   ],
   "source": [
    "# 라쏘 모델의 알파 값 찾기\n",
    "alpha_list=[0.001,0.01,0.1,1,10,100]\n",
    "for alpha in alpha_list:\n",
    "    lasso = Lasso(alpha=alpha)\n",
    "    lasso.fit(train_scaled, train_target)\n",
    "    train_score.append((lasso.score(train_scaled, train_target)))\n",
    "    test_score.append((lasso.score(test_scaled,test_target)))\n",
    "\n",
    "plt.plot(np.log10(alpha_list), train_score)\n",
    "plt.plot(np.log10(alpha_list), test_score)"
   ]
  },
  {
   "cell_type": "markdown",
   "metadata": {},
   "source": [
    "로지스틱 회귀"
   ]
  },
  {
   "cell_type": "code",
   "execution_count": 38,
   "metadata": {},
   "outputs": [
    {
     "ename": "ValueError",
     "evalue": "Unknown label type: 'continuous'",
     "output_type": "error",
     "traceback": [
      "\u001b[1;31m---------------------------------------------------------------------------\u001b[0m",
      "\u001b[1;31mValueError\u001b[0m                                Traceback (most recent call last)",
      "\u001b[1;32m~\\AppData\\Local\\Temp/ipykernel_14392/940800773.py\u001b[0m in \u001b[0;36m<module>\u001b[1;34m\u001b[0m\n\u001b[0;32m     20\u001b[0m \u001b[1;32mfrom\u001b[0m \u001b[0msklearn\u001b[0m\u001b[1;33m.\u001b[0m\u001b[0mlinear_model\u001b[0m \u001b[1;32mimport\u001b[0m \u001b[0mLogisticRegression\u001b[0m\u001b[1;33m\u001b[0m\u001b[1;33m\u001b[0m\u001b[0m\n\u001b[0;32m     21\u001b[0m \u001b[0mlr\u001b[0m \u001b[1;33m=\u001b[0m \u001b[0mLogisticRegression\u001b[0m\u001b[1;33m(\u001b[0m\u001b[0mC\u001b[0m\u001b[1;33m=\u001b[0m\u001b[1;36m20\u001b[0m\u001b[1;33m,\u001b[0m \u001b[0mmax_iter\u001b[0m\u001b[1;33m=\u001b[0m\u001b[1;36m1000\u001b[0m\u001b[1;33m)\u001b[0m\u001b[1;33m\u001b[0m\u001b[1;33m\u001b[0m\u001b[0m\n\u001b[1;32m---> 22\u001b[1;33m \u001b[0mlr\u001b[0m\u001b[1;33m.\u001b[0m\u001b[0mfit\u001b[0m\u001b[1;33m(\u001b[0m\u001b[0mtrain_scaled\u001b[0m\u001b[1;33m,\u001b[0m \u001b[0mtrain_target\u001b[0m\u001b[1;33m)\u001b[0m\u001b[1;33m\u001b[0m\u001b[1;33m\u001b[0m\u001b[0m\n\u001b[0m\u001b[0;32m     23\u001b[0m \u001b[0mprint\u001b[0m\u001b[1;33m(\u001b[0m\u001b[0mlr\u001b[0m\u001b[1;33m.\u001b[0m\u001b[0mscore\u001b[0m\u001b[1;33m(\u001b[0m\u001b[0mtrain_scaled\u001b[0m\u001b[1;33m,\u001b[0m\u001b[0mtrain_target\u001b[0m\u001b[1;33m)\u001b[0m\u001b[1;33m)\u001b[0m\u001b[1;33m\u001b[0m\u001b[1;33m\u001b[0m\u001b[0m\n\u001b[0;32m     24\u001b[0m \u001b[0mprint\u001b[0m\u001b[1;33m(\u001b[0m\u001b[0mlr\u001b[0m\u001b[1;33m.\u001b[0m\u001b[0mscore\u001b[0m\u001b[1;33m(\u001b[0m\u001b[0mtest_scaled\u001b[0m\u001b[1;33m,\u001b[0m\u001b[0mtest_target\u001b[0m\u001b[1;33m)\u001b[0m\u001b[1;33m)\u001b[0m\u001b[1;33m\u001b[0m\u001b[1;33m\u001b[0m\u001b[0m\n",
      "\u001b[1;32mC:\\Anaconda3\\lib\\site-packages\\sklearn\\linear_model\\_logistic.py\u001b[0m in \u001b[0;36mfit\u001b[1;34m(self, X, y, sample_weight)\u001b[0m\n\u001b[0;32m   1345\u001b[0m                                    \u001b[0morder\u001b[0m\u001b[1;33m=\u001b[0m\u001b[1;34m\"C\"\u001b[0m\u001b[1;33m,\u001b[0m\u001b[1;33m\u001b[0m\u001b[1;33m\u001b[0m\u001b[0m\n\u001b[0;32m   1346\u001b[0m                                    accept_large_sparse=solver != 'liblinear')\n\u001b[1;32m-> 1347\u001b[1;33m         \u001b[0mcheck_classification_targets\u001b[0m\u001b[1;33m(\u001b[0m\u001b[0my\u001b[0m\u001b[1;33m)\u001b[0m\u001b[1;33m\u001b[0m\u001b[1;33m\u001b[0m\u001b[0m\n\u001b[0m\u001b[0;32m   1348\u001b[0m         \u001b[0mself\u001b[0m\u001b[1;33m.\u001b[0m\u001b[0mclasses_\u001b[0m \u001b[1;33m=\u001b[0m \u001b[0mnp\u001b[0m\u001b[1;33m.\u001b[0m\u001b[0munique\u001b[0m\u001b[1;33m(\u001b[0m\u001b[0my\u001b[0m\u001b[1;33m)\u001b[0m\u001b[1;33m\u001b[0m\u001b[1;33m\u001b[0m\u001b[0m\n\u001b[0;32m   1349\u001b[0m \u001b[1;33m\u001b[0m\u001b[0m\n",
      "\u001b[1;32mC:\\Anaconda3\\lib\\site-packages\\sklearn\\utils\\multiclass.py\u001b[0m in \u001b[0;36mcheck_classification_targets\u001b[1;34m(y)\u001b[0m\n\u001b[0;32m    181\u001b[0m     if y_type not in ['binary', 'multiclass', 'multiclass-multioutput',\n\u001b[0;32m    182\u001b[0m                       'multilabel-indicator', 'multilabel-sequences']:\n\u001b[1;32m--> 183\u001b[1;33m         \u001b[1;32mraise\u001b[0m \u001b[0mValueError\u001b[0m\u001b[1;33m(\u001b[0m\u001b[1;34m\"Unknown label type: %r\"\u001b[0m \u001b[1;33m%\u001b[0m \u001b[0my_type\u001b[0m\u001b[1;33m)\u001b[0m\u001b[1;33m\u001b[0m\u001b[1;33m\u001b[0m\u001b[0m\n\u001b[0m\u001b[0;32m    184\u001b[0m \u001b[1;33m\u001b[0m\u001b[0m\n\u001b[0;32m    185\u001b[0m \u001b[1;33m\u001b[0m\u001b[0m\n",
      "\u001b[1;31mValueError\u001b[0m: Unknown label type: 'continuous'"
     ]
    }
   ],
   "source": [
    "target = train['count']\n",
    "features = train.drop(columns=['count'])\n",
    "\n",
    "target_log = np.log1p(target)\n",
    "\n",
    "train_input,test_input,train_target,test_target = train_test_split(features,target_log,random_state=42)\n",
    "# 사이킷런 변환기 적용\n",
    "poly = PolynomialFeatures()\n",
    "poly.fit(train_input)\n",
    "train_poly = poly.transform(train_input)\n",
    "test_poly = poly.transform(test_input)\n",
    "\n",
    "# 특성 스케일 적용\n",
    "ss=StandardScaler()\n",
    "ss.fit(train_poly)\n",
    "train_scaled = ss.transform(train_poly)\n",
    "test_scaled = ss.transform(test_poly)\n",
    "\n",
    "\n",
    "from sklearn.linear_model import LogisticRegression\n",
    "lr = LogisticRegression()\n",
    "lr.fit(train_scaled, train_target)\n",
    "print(lr.score(train_scaled,train_target))\n",
    "print(lr.score(test_scaled,test_target))"
   ]
  },
  {
   "cell_type": "markdown",
   "metadata": {},
   "source": [
    "SGDClassifier"
   ]
  },
  {
   "cell_type": "code",
   "execution_count": 48,
   "metadata": {},
   "outputs": [
    {
     "ename": "ValueError",
     "evalue": "Unknown label type: (array([0.69314718, 1.09861229, 1.38629436, 1.60943791, 1.79175947,\n       1.94591015, 2.07944154, 2.19722458, 2.30258509, 2.39789527,\n       2.48490665, 2.56494936, 2.63905733, 2.7080502 , 2.77258872,\n       2.83321334, 2.89037176, 2.94443898, 2.99573227, 3.04452244,\n       3.09104245, 3.13549422, 3.17805383, 3.21887582, 3.25809654,\n       3.29583687, 3.33220451, 3.36729583, 3.40119738, 3.4339872 ,\n       3.4657359 , 3.49650756, 3.52636052, 3.55534806, 3.58351894,\n       3.61091791, 3.63758616, 3.66356165, 3.68887945, 3.71357207,\n       3.73766962, 3.76120012, 3.78418963, 3.80666249, 3.8286414 ,\n       3.8501476 , 3.87120101, 3.8918203 , 3.91202301, 3.93182563,\n       3.95124372, 3.97029191, 3.98898405, 4.00733319, 4.02535169,\n       4.04305127, 4.06044301, 4.07753744, 4.09434456, 4.11087386,\n       4.12713439, 4.14313473, 4.15888308, 4.17438727, 4.18965474,\n       4.20469262, 4.21950771, 4.2341065 , 4.24849524, 4.26267988,\n       4.27666612, 4.29045944, 4.30406509, 4.31748811, 4.33073334,\n       4.34380542, 4.35670883, 4.36944785, 4.38202663, 4.39444915,\n       4.40671925, 4.41884061, 4.4308168 , 4.44265126, 4.4543473 ,\n       4.46590812, 4.47733681, 4.48863637, 4.49980967, 4.51085951,\n       4.52178858, 4.53259949, 4.54329478, 4.55387689, 4.56434819,\n       4.57471098, 4.58496748, 4.59511985, 4.60517019, 4.61512052,\n       4.62497281, 4.63472899, 4.6443909 , 4.65396035, 4.66343909,\n       4.67282883, 4.68213123, 4.69134788, 4.70048037, 4.7095302 ,\n       4.71849887, 4.72738782, 4.73619845, 4.74493213, 4.75359019,\n       4.76217393, 4.77068462, 4.77912349, 4.78749174, 4.79579055,\n       4.80402104, 4.81218436, 4.82028157, 4.82831374, 4.83628191,\n       4.84418709, 4.85203026, 4.8598124 , 4.86753445, 4.87519732,\n       4.88280192, 4.89034913, 4.8978398 , 4.90527478, 4.91265489,\n       4.91998093, 4.92725369, 4.93447393, 4.94164242, 4.94875989,\n       4.95582706, 4.96284463, 4.9698133 , 4.97673374, 4.98360662,\n       4.99043259, 4.99721227, 5.00394631, 5.01063529, 5.01727984,\n       5.02388052, 5.03043792, 5.0369526 , 5.04342512, 5.04985601,\n       5.05624581, 5.06259503, 5.0689042 , 5.07517382, 5.08140436,\n       5.08759634, 5.0937502 , 5.09986643, 5.10594547, 5.11198779,\n       5.11799381, 5.12396398, 5.12989871, 5.13579844, 5.14166356,\n       5.14749448, 5.15329159, 5.1590553 , 5.16478597, 5.170484  ,\n       5.17614973, 5.18178355, 5.18738581, 5.19295685, 5.19849703,\n       5.20400669, 5.20948615, 5.21493576, 5.22035583, 5.22574667,\n       5.23110862, 5.23644196, 5.24174702, 5.24702407, 5.25227343,\n       5.25749537, 5.26269019, 5.26785816, 5.27299956, 5.27811466,\n       5.28320373, 5.28826703, 5.29330482, 5.29831737, 5.30330491,\n       5.3082677 , 5.31320598, 5.31811999, 5.32300998, 5.32787617,\n       5.33271879, 5.33753808, 5.34233425, 5.34710753, 5.35185813,\n       5.35658627, 5.36129217, 5.36597602, 5.37063803, 5.37527841,\n       5.37989735, 5.38449506, 5.38907173, 5.39362755, 5.3981627 ,\n       5.40267738, 5.40717177, 5.41164605, 5.4161004 , 5.420535  ,\n       5.42495002, 5.42934563, 5.433722  , 5.43807931, 5.44241771,\n       5.44673737, 5.45103845, 5.45532112, 5.45958551, 5.46383181,\n       5.46806014, 5.47227067, 5.47646355, 5.48063892, 5.48479693,\n       5.48893773, 5.49306144, 5.49716823, 5.50125821, 5.50533154,\n       5.50938834, 5.51342875, 5.5174529 , 5.52146092, 5.52545294,\n       5.52942909, 5.53338949, 5.53733427, 5.54126355, 5.54517744,\n       5.54907608, 5.55295958, 5.55682806, 5.56068163, 5.56452041,\n       5.5683445 , 5.57215403, 5.5759491 , 5.57972983, 5.58349631,\n       5.58724866, 5.59098698, 5.59471138, 5.59842196, 5.60211882,\n       5.60580207, 5.6094718 , 5.61312811, 5.6167711 , 5.62040087,\n       5.62401751, 5.62762111, 5.63121178, 5.6347896 , 5.63835467,\n       5.64190707, 5.6454469 , 5.64897424, 5.65248918, 5.65599181,\n       5.65948222, 5.66296048, 5.66642669, 5.66988092, 5.67332327,\n       5.6767538 , 5.68017261, 5.68357977, 5.68697536, 5.69035945,\n       5.69373214, 5.69709349, 5.70044357, 5.70378247, 5.70711026,\n       5.71042702, 5.71373281, 5.7170277 , 5.72031178, 5.7235851 ,\n       5.72684775, 5.73009978, 5.73334128, 5.7365723 , 5.73979291,\n       5.74300319, 5.74620319, 5.74939299, 5.75257264, 5.75574221,\n       5.75890177, 5.76205138, 5.7651911 , 5.768321  , 5.77144112,\n       5.77455155, 5.77765232, 5.78074352, 5.78382518, 5.78689738,\n       5.78996017, 5.79301361, 5.79605775, 5.79909265, 5.80211838,\n       5.80513497, 5.80814249, 5.81114099, 5.81413053, 5.81711116,\n       5.82008293, 5.8230459 , 5.82600011, 5.82894562, 5.83188248,\n       5.83481074, 5.83773045, 5.84064166, 5.84354442, 5.84643878,\n       5.84932478, 5.85220248, 5.85507192, 5.85793315, 5.86078622,\n       5.86363118, 5.86646806, 5.86929691, 5.87211779, 5.87493073,\n       5.87773578, 5.88053299, 5.88332239, 5.88610403, 5.88887796,\n       5.89164421, 5.89440283, 5.89715387, 5.89989735, 5.90263333,\n       5.90536185, 5.90808294, 5.91079664, 5.91350301, 5.91620206,\n       5.91889385, 5.92157842, 5.9242558 , 5.92692603, 5.92958914,\n       5.93224519, 5.9348942 , 5.93753621, 5.94017125, 5.94279938,\n       5.94542061, 5.94803499, 5.95064255, 5.95324333, 5.95583737,\n       5.95842469, 5.96100534, 5.96357934, 5.96614674, 5.96870756,\n       5.97126184, 5.97380961, 5.97635091, 5.97888576, 5.98141421,\n       5.98393628, 5.98645201, 5.98896142, 5.99146455, 5.99396143,\n       5.99645209, 5.99893656, 6.00141488, 6.00388707, 6.00635316,\n       6.00881319, 6.01126717, 6.01371516, 6.01615716, 6.01859321,\n       6.02102335, 6.02344759, 6.02586597, 6.02827852, 6.03068526,\n       6.03308622, 6.03548143, 6.03787092, 6.04025471, 6.04263283,\n       6.04500531, 6.04737218, 6.04973346, 6.05208917, 6.05443935,\n       6.05678401, 6.0591232 , 6.06145692, 6.06378521, 6.06610809,\n       6.06842559, 6.07073773, 6.07304453, 6.07534603, 6.07764224,\n       6.0799332 , 6.08221891, 6.08449941, 6.08677473, 6.08904488,\n       6.09130988, 6.09356977, 6.09582456, 6.09807428, 6.10031895,\n       6.10255859, 6.10479323, 6.10702289, 6.10924758, 6.11146734,\n       6.11368218, 6.11589213, 6.1180972 , 6.12029742, 6.12249281,\n       6.12468339, 6.12686918, 6.12905021, 6.13122649, 6.13339804,\n       6.13556489, 6.13772705, 6.13988455, 6.14203741, 6.14418563,\n       6.14632926, 6.1484683 , 6.15060277, 6.15273269, 6.15485809,\n       6.15697899, 6.15909539, 6.16120732, 6.1633148 , 6.16541785,\n       6.16751649, 6.16961073, 6.1717006 , 6.1737861 , 6.17586727,\n       6.17794411, 6.18001665, 6.18208491, 6.18414889, 6.18620862,\n       6.18826412, 6.19031541, 6.19236249, 6.19440539, 6.19644413,\n       6.19847872, 6.20050917, 6.20253552, 6.20455776, 6.20657593,\n       6.20859003, 6.21060008, 6.2126061 , 6.2146081 , 6.2166061 ,\n       6.21860012, 6.22059017, 6.22257627, 6.22455843, 6.22653667,\n       6.228511  , 6.23048145, 6.23244802, 6.23441073, 6.23832463,\n       6.24027585, 6.24222327, 6.2441669 , 6.24610677, 6.24804287,\n       6.24997524, 6.25190388, 6.25382881, 6.25575004, 6.25766759,\n       6.25958146, 6.26149168, 6.26339826, 6.26530121, 6.26720055,\n       6.26909628, 6.27098843, 6.27287701, 6.27476202, 6.27664349,\n       6.28039584, 6.28226675, 6.28599809, 6.28785856, 6.28971557,\n       6.29156914, 6.29341928, 6.295266  , 6.29710932, 6.29894925,\n       6.30078579, 6.30261898, 6.3044488 , 6.30627529, 6.30991828,\n       6.31173481, 6.31354805, 6.315358  , 6.31716469, 6.31896811,\n       6.32076829, 6.32256524, 6.32435896, 6.32614947, 6.32793678,\n       6.32972091, 6.33150185, 6.33327963, 6.33505425, 6.33682573,\n       6.33859408, 6.3403593 , 6.34212142, 6.34388043, 6.34563636,\n       6.34738921, 6.34913899, 6.3526294 , 6.35610766, 6.35784227,\n       6.35957387, 6.36130248, 6.3630281 , 6.36475076, 6.36647045,\n       6.36818719, 6.36990098, 6.37161185, 6.37331979, 6.37502482,\n       6.37672695, 6.37842618, 6.38012254, 6.38181602, 6.38350663,\n       6.3851944 , 6.38687932, 6.38856141, 6.39024067, 6.39191711,\n       6.39359075, 6.3952616 , 6.39859493, 6.40025745, 6.4019172 ,\n       6.40522846, 6.40687999, 6.40852879, 6.41017488, 6.41181827,\n       6.41345896, 6.41509696, 6.41673228, 6.41999493, 6.42162227,\n       6.42324696, 6.42486902, 6.42648846, 6.42810527, 6.42971948,\n       6.43133108, 6.43454652, 6.43615037, 6.43775165, 6.43935037,\n       6.44094654, 6.44254017, 6.44413126, 6.44571982, 6.44730586,\n       6.44888939, 6.45047042, 6.45204895, 6.453625  , 6.45519856,\n       6.45676966, 6.45833828, 6.45990445, 6.46302946, 6.4645883 ,\n       6.46614472, 6.46769873, 6.46925032, 6.4707995 , 6.47234629,\n       6.4738907 , 6.47543272, 6.47697236, 6.48004456, 6.48157713,\n       6.48310735, 6.48463524, 6.48768402, 6.48920493, 6.49072353,\n       6.49223984, 6.49375384, 6.49677499, 6.49828215, 6.50128967,\n       6.50428817, 6.50578406, 6.50727771, 6.50876914, 6.51025834,\n       6.51174533, 6.51323011, 6.51471269, 6.51767127, 6.51914729,\n       6.52062113, 6.5220928 , 6.52356231, 6.52502966, 6.52649486,\n       6.52795792, 6.52941884, 6.53233429, 6.53378884, 6.53524127,\n       6.5366916 , 6.53813982, 6.53958596, 6.54103   , 6.54247196,\n       6.54391185, 6.54678541, 6.54965074, 6.55250789, 6.5539334 ,\n       6.55535689, 6.5581978 , 6.55961524, 6.56103067, 6.56385553,\n       6.56667243, 6.56807791, 6.56948142, 6.57088296, 6.57368017,\n       6.57646957, 6.57925121, 6.58202514, 6.58340922, 6.58479139,\n       6.58617165, 6.58755001, 6.59304453, 6.59441346, 6.59578051,\n       6.5971457 , 6.59850903, 6.5998705 , 6.60394382, 6.60529792,\n       6.60665019, 6.61204103, 6.61338422, 6.6147256 , 6.61606519,\n       6.61873898, 6.62007321, 6.63068339, 6.63331843, 6.6424868 ,\n       6.64378973, 6.64639051, 6.64768837, 6.64898455, 6.65027905,\n       6.65286303, 6.65415252, 6.65544035, 6.65672652, 6.65929392,\n       6.66185474, 6.6631327 , 6.66440902, 6.66568372, 6.66695679,\n       6.67076632, 6.67329797, 6.67456139, 6.67582322, 6.67708346,\n       6.67834211, 6.67959919, 6.6821086 , 6.68336095, 6.68586095,\n       6.68710861, 6.69332367, 6.69579892, 6.69703425, 6.69826805,\n       6.69950034, 6.70073111, 6.70196037, 6.70318811, 6.70686234,\n       6.70930434, 6.7129562 , 6.71417053, 6.71659477, 6.71901315,\n       6.72743172, 6.72862861, 6.7310181 , 6.73340189, 6.73815249,\n       6.73933663, 6.74170069, 6.74405919, 6.74641213, 6.74758653,\n       6.74875955, 6.75110147, 6.75343792, 6.7546041 , 6.75576892,\n       6.76041469, 6.76157277, 6.76388491, 6.76619171, 6.76734313,\n       6.76849321, 6.77308038, 6.78558765, 6.78784498, 6.78897174,\n       6.79346613, 6.79458658, 6.80017007, 6.80350526, 6.80461452,\n       6.82219739, 6.85012617, 6.87626461, 6.87832647]),)",
     "output_type": "error",
     "traceback": [
      "\u001b[1;31m---------------------------------------------------------------------------\u001b[0m",
      "\u001b[1;31mValueError\u001b[0m                                Traceback (most recent call last)",
      "\u001b[1;32m~\\AppData\\Local\\Temp/ipykernel_14392/2015817068.py\u001b[0m in \u001b[0;36m<module>\u001b[1;34m\u001b[0m\n\u001b[0;32m     20\u001b[0m \u001b[1;32mfrom\u001b[0m \u001b[0msklearn\u001b[0m\u001b[1;33m.\u001b[0m\u001b[0mlinear_model\u001b[0m \u001b[1;32mimport\u001b[0m \u001b[0mSGDClassifier\u001b[0m\u001b[1;33m\u001b[0m\u001b[1;33m\u001b[0m\u001b[0m\n\u001b[0;32m     21\u001b[0m \u001b[0msc\u001b[0m \u001b[1;33m=\u001b[0m \u001b[0mSGDClassifier\u001b[0m\u001b[1;33m(\u001b[0m\u001b[0mloss\u001b[0m\u001b[1;33m=\u001b[0m\u001b[1;34m'log'\u001b[0m\u001b[1;33m,\u001b[0m\u001b[0mmax_iter\u001b[0m\u001b[1;33m=\u001b[0m\u001b[1;36m1000\u001b[0m\u001b[1;33m,\u001b[0m \u001b[0mrandom_state\u001b[0m\u001b[1;33m=\u001b[0m\u001b[1;36m42\u001b[0m\u001b[1;33m)\u001b[0m\u001b[1;33m\u001b[0m\u001b[1;33m\u001b[0m\u001b[0m\n\u001b[1;32m---> 22\u001b[1;33m \u001b[0msc\u001b[0m\u001b[1;33m.\u001b[0m\u001b[0mfit\u001b[0m\u001b[1;33m(\u001b[0m\u001b[0mtrain_scaled\u001b[0m\u001b[1;33m,\u001b[0m \u001b[0mtrain_target\u001b[0m\u001b[1;33m)\u001b[0m\u001b[1;33m\u001b[0m\u001b[1;33m\u001b[0m\u001b[0m\n\u001b[0m\u001b[0;32m     23\u001b[0m \u001b[0mprint\u001b[0m\u001b[1;33m(\u001b[0m\u001b[0msc\u001b[0m\u001b[1;33m.\u001b[0m\u001b[0mscore\u001b[0m\u001b[1;33m(\u001b[0m\u001b[0mtrain_scaled\u001b[0m\u001b[1;33m,\u001b[0m\u001b[0mtrain_target\u001b[0m\u001b[1;33m)\u001b[0m\u001b[1;33m)\u001b[0m\u001b[1;33m\u001b[0m\u001b[1;33m\u001b[0m\u001b[0m\n\u001b[0;32m     24\u001b[0m \u001b[0mprint\u001b[0m\u001b[1;33m(\u001b[0m\u001b[0msc\u001b[0m\u001b[1;33m.\u001b[0m\u001b[0mscore\u001b[0m\u001b[1;33m(\u001b[0m\u001b[0mtest_scaled\u001b[0m\u001b[1;33m,\u001b[0m\u001b[0mtest_target\u001b[0m\u001b[1;33m)\u001b[0m\u001b[1;33m)\u001b[0m\u001b[1;33m\u001b[0m\u001b[1;33m\u001b[0m\u001b[0m\n",
      "\u001b[1;32mC:\\Anaconda3\\lib\\site-packages\\sklearn\\linear_model\\_stochastic_gradient.py\u001b[0m in \u001b[0;36mfit\u001b[1;34m(self, X, y, coef_init, intercept_init, sample_weight)\u001b[0m\n\u001b[0;32m    727\u001b[0m             \u001b[0mReturns\u001b[0m \u001b[0man\u001b[0m \u001b[0minstance\u001b[0m \u001b[0mof\u001b[0m \u001b[0mself\u001b[0m\u001b[1;33m.\u001b[0m\u001b[1;33m\u001b[0m\u001b[1;33m\u001b[0m\u001b[0m\n\u001b[0;32m    728\u001b[0m         \"\"\"\n\u001b[1;32m--> 729\u001b[1;33m         return self._fit(X, y, alpha=self.alpha, C=1.0,\n\u001b[0m\u001b[0;32m    730\u001b[0m                          \u001b[0mloss\u001b[0m\u001b[1;33m=\u001b[0m\u001b[0mself\u001b[0m\u001b[1;33m.\u001b[0m\u001b[0mloss\u001b[0m\u001b[1;33m,\u001b[0m \u001b[0mlearning_rate\u001b[0m\u001b[1;33m=\u001b[0m\u001b[0mself\u001b[0m\u001b[1;33m.\u001b[0m\u001b[0mlearning_rate\u001b[0m\u001b[1;33m,\u001b[0m\u001b[1;33m\u001b[0m\u001b[1;33m\u001b[0m\u001b[0m\n\u001b[0;32m    731\u001b[0m                          \u001b[0mcoef_init\u001b[0m\u001b[1;33m=\u001b[0m\u001b[0mcoef_init\u001b[0m\u001b[1;33m,\u001b[0m \u001b[0mintercept_init\u001b[0m\u001b[1;33m=\u001b[0m\u001b[0mintercept_init\u001b[0m\u001b[1;33m,\u001b[0m\u001b[1;33m\u001b[0m\u001b[1;33m\u001b[0m\u001b[0m\n",
      "\u001b[1;32mC:\\Anaconda3\\lib\\site-packages\\sklearn\\linear_model\\_stochastic_gradient.py\u001b[0m in \u001b[0;36m_fit\u001b[1;34m(self, X, y, alpha, C, loss, learning_rate, coef_init, intercept_init, sample_weight)\u001b[0m\n\u001b[0;32m    567\u001b[0m         \u001b[0mself\u001b[0m\u001b[1;33m.\u001b[0m\u001b[0mt_\u001b[0m \u001b[1;33m=\u001b[0m \u001b[1;36m1.0\u001b[0m\u001b[1;33m\u001b[0m\u001b[1;33m\u001b[0m\u001b[0m\n\u001b[0;32m    568\u001b[0m \u001b[1;33m\u001b[0m\u001b[0m\n\u001b[1;32m--> 569\u001b[1;33m         self._partial_fit(X, y, alpha, C, loss, learning_rate, self.max_iter,\n\u001b[0m\u001b[0;32m    570\u001b[0m                           classes, sample_weight, coef_init, intercept_init)\n\u001b[0;32m    571\u001b[0m \u001b[1;33m\u001b[0m\u001b[0m\n",
      "\u001b[1;32mC:\\Anaconda3\\lib\\site-packages\\sklearn\\linear_model\\_stochastic_gradient.py\u001b[0m in \u001b[0;36m_partial_fit\u001b[1;34m(self, X, y, alpha, C, loss, learning_rate, max_iter, classes, sample_weight, coef_init, intercept_init)\u001b[0m\n\u001b[0;32m    497\u001b[0m         \u001b[0mn_samples\u001b[0m\u001b[1;33m,\u001b[0m \u001b[0mn_features\u001b[0m \u001b[1;33m=\u001b[0m \u001b[0mX\u001b[0m\u001b[1;33m.\u001b[0m\u001b[0mshape\u001b[0m\u001b[1;33m\u001b[0m\u001b[1;33m\u001b[0m\u001b[0m\n\u001b[0;32m    498\u001b[0m \u001b[1;33m\u001b[0m\u001b[0m\n\u001b[1;32m--> 499\u001b[1;33m         \u001b[0m_check_partial_fit_first_call\u001b[0m\u001b[1;33m(\u001b[0m\u001b[0mself\u001b[0m\u001b[1;33m,\u001b[0m \u001b[0mclasses\u001b[0m\u001b[1;33m)\u001b[0m\u001b[1;33m\u001b[0m\u001b[1;33m\u001b[0m\u001b[0m\n\u001b[0m\u001b[0;32m    500\u001b[0m \u001b[1;33m\u001b[0m\u001b[0m\n\u001b[0;32m    501\u001b[0m         \u001b[0mn_classes\u001b[0m \u001b[1;33m=\u001b[0m \u001b[0mself\u001b[0m\u001b[1;33m.\u001b[0m\u001b[0mclasses_\u001b[0m\u001b[1;33m.\u001b[0m\u001b[0mshape\u001b[0m\u001b[1;33m[\u001b[0m\u001b[1;36m0\u001b[0m\u001b[1;33m]\u001b[0m\u001b[1;33m\u001b[0m\u001b[1;33m\u001b[0m\u001b[0m\n",
      "\u001b[1;32mC:\\Anaconda3\\lib\\site-packages\\sklearn\\utils\\multiclass.py\u001b[0m in \u001b[0;36m_check_partial_fit_first_call\u001b[1;34m(clf, classes)\u001b[0m\n\u001b[0;32m    337\u001b[0m         \u001b[1;32melse\u001b[0m\u001b[1;33m:\u001b[0m\u001b[1;33m\u001b[0m\u001b[1;33m\u001b[0m\u001b[0m\n\u001b[0;32m    338\u001b[0m             \u001b[1;31m# This is the first call to partial_fit\u001b[0m\u001b[1;33m\u001b[0m\u001b[1;33m\u001b[0m\u001b[0m\n\u001b[1;32m--> 339\u001b[1;33m             \u001b[0mclf\u001b[0m\u001b[1;33m.\u001b[0m\u001b[0mclasses_\u001b[0m \u001b[1;33m=\u001b[0m \u001b[0munique_labels\u001b[0m\u001b[1;33m(\u001b[0m\u001b[0mclasses\u001b[0m\u001b[1;33m)\u001b[0m\u001b[1;33m\u001b[0m\u001b[1;33m\u001b[0m\u001b[0m\n\u001b[0m\u001b[0;32m    340\u001b[0m             \u001b[1;32mreturn\u001b[0m \u001b[1;32mTrue\u001b[0m\u001b[1;33m\u001b[0m\u001b[1;33m\u001b[0m\u001b[0m\n\u001b[0;32m    341\u001b[0m \u001b[1;33m\u001b[0m\u001b[0m\n",
      "\u001b[1;32mC:\\Anaconda3\\lib\\site-packages\\sklearn\\utils\\multiclass.py\u001b[0m in \u001b[0;36munique_labels\u001b[1;34m(*ys)\u001b[0m\n\u001b[0;32m     96\u001b[0m     \u001b[0m_unique_labels\u001b[0m \u001b[1;33m=\u001b[0m \u001b[0m_FN_UNIQUE_LABELS\u001b[0m\u001b[1;33m.\u001b[0m\u001b[0mget\u001b[0m\u001b[1;33m(\u001b[0m\u001b[0mlabel_type\u001b[0m\u001b[1;33m,\u001b[0m \u001b[1;32mNone\u001b[0m\u001b[1;33m)\u001b[0m\u001b[1;33m\u001b[0m\u001b[1;33m\u001b[0m\u001b[0m\n\u001b[0;32m     97\u001b[0m     \u001b[1;32mif\u001b[0m \u001b[1;32mnot\u001b[0m \u001b[0m_unique_labels\u001b[0m\u001b[1;33m:\u001b[0m\u001b[1;33m\u001b[0m\u001b[1;33m\u001b[0m\u001b[0m\n\u001b[1;32m---> 98\u001b[1;33m         \u001b[1;32mraise\u001b[0m \u001b[0mValueError\u001b[0m\u001b[1;33m(\u001b[0m\u001b[1;34m\"Unknown label type: %s\"\u001b[0m \u001b[1;33m%\u001b[0m \u001b[0mrepr\u001b[0m\u001b[1;33m(\u001b[0m\u001b[0mys\u001b[0m\u001b[1;33m)\u001b[0m\u001b[1;33m)\u001b[0m\u001b[1;33m\u001b[0m\u001b[1;33m\u001b[0m\u001b[0m\n\u001b[0m\u001b[0;32m     99\u001b[0m \u001b[1;33m\u001b[0m\u001b[0m\n\u001b[0;32m    100\u001b[0m     \u001b[0mys_labels\u001b[0m \u001b[1;33m=\u001b[0m \u001b[0mset\u001b[0m\u001b[1;33m(\u001b[0m\u001b[0mchain\u001b[0m\u001b[1;33m.\u001b[0m\u001b[0mfrom_iterable\u001b[0m\u001b[1;33m(\u001b[0m\u001b[0m_unique_labels\u001b[0m\u001b[1;33m(\u001b[0m\u001b[0my\u001b[0m\u001b[1;33m)\u001b[0m \u001b[1;32mfor\u001b[0m \u001b[0my\u001b[0m \u001b[1;32min\u001b[0m \u001b[0mys\u001b[0m\u001b[1;33m)\u001b[0m\u001b[1;33m)\u001b[0m\u001b[1;33m\u001b[0m\u001b[1;33m\u001b[0m\u001b[0m\n",
      "\u001b[1;31mValueError\u001b[0m: Unknown label type: (array([0.69314718, 1.09861229, 1.38629436, 1.60943791, 1.79175947,\n       1.94591015, 2.07944154, 2.19722458, 2.30258509, 2.39789527,\n       2.48490665, 2.56494936, 2.63905733, 2.7080502 , 2.77258872,\n       2.83321334, 2.89037176, 2.94443898, 2.99573227, 3.04452244,\n       3.09104245, 3.13549422, 3.17805383, 3.21887582, 3.25809654,\n       3.29583687, 3.33220451, 3.36729583, 3.40119738, 3.4339872 ,\n       3.4657359 , 3.49650756, 3.52636052, 3.55534806, 3.58351894,\n       3.61091791, 3.63758616, 3.66356165, 3.68887945, 3.71357207,\n       3.73766962, 3.76120012, 3.78418963, 3.80666249, 3.8286414 ,\n       3.8501476 , 3.87120101, 3.8918203 , 3.91202301, 3.93182563,\n       3.95124372, 3.97029191, 3.98898405, 4.00733319, 4.02535169,\n       4.04305127, 4.06044301, 4.07753744, 4.09434456, 4.11087386,\n       4.12713439, 4.14313473, 4.15888308, 4.17438727, 4.18965474,\n       4.20469262, 4.21950771, 4.2341065 , 4.24849524, 4.26267988,\n       4.27666612, 4.29045944, 4.30406509, 4.31748811, 4.33073334,\n       4.34380542, 4.35670883, 4.36944785, 4.38202663, 4.39444915,\n       4.40671925, 4.41884061, 4.4308168 , 4.44265126, 4.4543473 ,\n       4.46590812, 4.47733681, 4.48863637, 4.49980967, 4.51085951,\n       4.52178858, 4.53259949, 4.54329478, 4.55387689, 4.56434819,\n       4.57471098, 4.58496748, 4.59511985, 4.60517019, 4.61512052,\n       4.62497281, 4.63472899, 4.6443909 , 4.65396035, 4.66343909,\n       4.67282883, 4.68213123, 4.69134788, 4.70048037, 4.7095302 ,\n       4.71849887, 4.72738782, 4.73619845, 4.74493213, 4.75359019,\n       4.76217393, 4.77068462, 4.77912349, 4.78749174, 4.79579055,\n       4.80402104, 4.81218436, 4.82028157, 4.82831374, 4.83628191,\n       4.84418709, 4.85203026, 4.8598124 , 4.86753445, 4.87519732,\n       4.88280192, 4.89034913, 4.8978398 , 4.90527478, 4.91265489,\n       4.91998093, 4.92725369, 4.93447393, 4.94164242, 4.94875989,\n       4.95582706, 4.96284463, 4.9698133 , 4.97673374, 4.98360662,\n       4.99043259, 4.99721227, 5.00394631, 5.01063529, 5.01727984,\n       5.02388052, 5.03043792, 5.0369526 , 5.04342512, 5.04985601,\n       5.05624581, 5.06259503, 5.0689042 , 5.07517382, 5.08140436,\n       5.08759634, 5.0937502 , 5.09986643, 5.10594547, 5.11198779,\n       5.11799381, 5.12396398, 5.12989871, 5.13579844, 5.14166356,\n       5.14749448, 5.15329159, 5.1590553 , 5.16478597, 5.170484  ,\n       5.17614973, 5.18178355, 5.18738581, 5.19295685, 5.19849703,\n       5.20400669, 5.20948615, 5.21493576, 5.22035583, 5.22574667,\n       5.23110862, 5.23644196, 5.24174702, 5.24702407, 5.25227343,\n       5.25749537, 5.26269019, 5.26785816, 5.27299956, 5.27811466,\n       5.28320373, 5.28826703, 5.29330482, 5.29831737, 5.30330491,\n       5.3082677 , 5.31320598, 5.31811999, 5.32300998, 5.32787617,\n       5.33271879, 5.33753808, 5.34233425, 5.34710753, 5.35185813,\n       5.35658627, 5.36129217, 5.36597602, 5.37063803, 5.37527841,\n       5.37989735, 5.38449506, 5.38907173, 5.39362755, 5.3981627 ,\n       5.40267738, 5.40717177, 5.41164605, 5.4161004 , 5.420535  ,\n       5.42495002, 5.42934563, 5.433722  , 5.43807931, 5.44241771,\n       5.44673737, 5.45103845, 5.45532112, 5.45958551, 5.46383181,\n       5.46806014, 5.47227067, 5.47646355, 5.48063892, 5.48479693,\n       5.48893773, 5.49306144, 5.49716823, 5.50125821, 5.50533154,\n       5.50938834, 5.51342875, 5.5174529 , 5.52146092, 5.52545294,\n       5.52942909, 5.53338949, 5.53733427, 5.54126355, 5.54517744,\n       5.54907608, 5.55295958, 5.55682806, 5.56068163, 5.56452041,\n       5.5683445 , 5.57215403, 5.5759491 , 5.57972983, 5.58349631,\n       5.58724866, 5.59098698, 5.59471138, 5.59842196, 5.60211882,\n       5.60580207, 5.6094718 , 5.61312811, 5.6167711 , 5.62040087,\n       5.62401751, 5.62762111, 5.63121178, 5.6347896 , 5.63835467,\n       5.64190707, 5.6454469 , 5.64897424, 5.65248918, 5.65599181,\n       5.65948222, 5.66296048, 5.66642669, 5.66988092, 5.67332327,\n       5.6767538 , 5.68017261, 5.68357977, 5.68697536, 5.69035945,\n       5.69373214, 5.69709349, 5.70044357, 5.70378247, 5.70711026,\n       5.71042702, 5.71373281, 5.7170277 , 5.72031178, 5.7235851 ,\n       5.72684775, 5.73009978, 5.73334128, 5.7365723 , 5.73979291,\n       5.74300319, 5.74620319, 5.74939299, 5.75257264, 5.75574221,\n       5.75890177, 5.76205138, 5.7651911 , 5.768321  , 5.77144112,\n       5.77455155, 5.77765232, 5.78074352, 5.78382518, 5.78689738,\n       5.78996017, 5.79301361, 5.79605775, 5.79909265, 5.80211838,\n       5.80513497, 5.80814249, 5.81114099, 5.81413053, 5.81711116,\n       5.82008293, 5.8230459 , 5.82600011, 5.82894562, 5.83188248,\n       5.83481074, 5.83773045, 5.84064166, 5.84354442, 5.84643878,\n       5.84932478, 5.85220248, 5.85507192, 5.85793315, 5.86078622,\n       5.86363118, 5.86646806, 5.86929691, 5.87211779, 5.87493073,\n       5.87773578, 5.88053299, 5.88332239, 5.88610403, 5.88887796,\n       5.89164421, 5.89440283, 5.89715387, 5.89989735, 5.90263333,\n       5.90536185, 5.90808294, 5.91079664, 5.91350301, 5.91620206,\n       5.91889385, 5.92157842, 5.9242558 , 5.92692603, 5.92958914,\n       5.93224519, 5.9348942 , 5.93753621, 5.94017125, 5.94279938,\n       5.94542061, 5.94803499, 5.95064255, 5.95324333, 5.95583737,\n       5.95842469, 5.96100534, 5.96357934, 5.96614674, 5.96870756,\n       5.97126184, 5.97380961, 5.97635091, 5.97888576, 5.98141421,\n       5.98393628, 5.98645201, 5.98896142, 5.99146455, 5.99396143,\n       5.99645209, 5.99893656, 6.00141488, 6.00388707, 6.00635316,\n       6.00881319, 6.01126717, 6.01371516, 6.01615716, 6.01859321,\n       6.02102335, 6.02344759, 6.02586597, 6.02827852, 6.03068526,\n       6.03308622, 6.03548143, 6.03787092, 6.04025471, 6.04263283,\n       6.04500531, 6.04737218, 6.04973346, 6.05208917, 6.05443935,\n       6.05678401, 6.0591232 , 6.06145692, 6.06378521, 6.06610809,\n       6.06842559, 6.07073773, 6.07304453, 6.07534603, 6.07764224,\n       6.0799332 , 6.08221891, 6.08449941, 6.08677473, 6.08904488,\n       6.09130988, 6.09356977, 6.09582456, 6.09807428, 6.10031895,\n       6.10255859, 6.10479323, 6.10702289, 6.10924758, 6.11146734,\n       6.11368218, 6.11589213, 6.1180972 , 6.12029742, 6.12249281,\n       6.12468339, 6.12686918, 6.12905021, 6.13122649, 6.13339804,\n       6.13556489, 6.13772705, 6.13988455, 6.14203741, 6.14418563,\n       6.14632926, 6.1484683 , 6.15060277, 6.15273269, 6.15485809,\n       6.15697899, 6.15909539, 6.16120732, 6.1633148 , 6.16541785,\n       6.16751649, 6.16961073, 6.1717006 , 6.1737861 , 6.17586727,\n       6.17794411, 6.18001665, 6.18208491, 6.18414889, 6.18620862,\n       6.18826412, 6.19031541, 6.19236249, 6.19440539, 6.19644413,\n       6.19847872, 6.20050917, 6.20253552, 6.20455776, 6.20657593,\n       6.20859003, 6.21060008, 6.2126061 , 6.2146081 , 6.2166061 ,\n       6.21860012, 6.22059017, 6.22257627, 6.22455843, 6.22653667,\n       6.228511  , 6.23048145, 6.23244802, 6.23441073, 6.23832463,\n       6.24027585, 6.24222327, 6.2441669 , 6.24610677, 6.24804287,\n       6.24997524, 6.25190388, 6.25382881, 6.25575004, 6.25766759,\n       6.25958146, 6.26149168, 6.26339826, 6.26530121, 6.26720055,\n       6.26909628, 6.27098843, 6.27287701, 6.27476202, 6.27664349,\n       6.28039584, 6.28226675, 6.28599809, 6.28785856, 6.28971557,\n       6.29156914, 6.29341928, 6.295266  , 6.29710932, 6.29894925,\n       6.30078579, 6.30261898, 6.3044488 , 6.30627529, 6.30991828,\n       6.31173481, 6.31354805, 6.315358  , 6.31716469, 6.31896811,\n       6.32076829, 6.32256524, 6.32435896, 6.32614947, 6.32793678,\n       6.32972091, 6.33150185, 6.33327963, 6.33505425, 6.33682573,\n       6.33859408, 6.3403593 , 6.34212142, 6.34388043, 6.34563636,\n       6.34738921, 6.34913899, 6.3526294 , 6.35610766, 6.35784227,\n       6.35957387, 6.36130248, 6.3630281 , 6.36475076, 6.36647045,\n       6.36818719, 6.36990098, 6.37161185, 6.37331979, 6.37502482,\n       6.37672695, 6.37842618, 6.38012254, 6.38181602, 6.38350663,\n       6.3851944 , 6.38687932, 6.38856141, 6.39024067, 6.39191711,\n       6.39359075, 6.3952616 , 6.39859493, 6.40025745, 6.4019172 ,\n       6.40522846, 6.40687999, 6.40852879, 6.41017488, 6.41181827,\n       6.41345896, 6.41509696, 6.41673228, 6.41999493, 6.42162227,\n       6.42324696, 6.42486902, 6.42648846, 6.42810527, 6.42971948,\n       6.43133108, 6.43454652, 6.43615037, 6.43775165, 6.43935037,\n       6.44094654, 6.44254017, 6.44413126, 6.44571982, 6.44730586,\n       6.44888939, 6.45047042, 6.45204895, 6.453625  , 6.45519856,\n       6.45676966, 6.45833828, 6.45990445, 6.46302946, 6.4645883 ,\n       6.46614472, 6.46769873, 6.46925032, 6.4707995 , 6.47234629,\n       6.4738907 , 6.47543272, 6.47697236, 6.48004456, 6.48157713,\n       6.48310735, 6.48463524, 6.48768402, 6.48920493, 6.49072353,\n       6.49223984, 6.49375384, 6.49677499, 6.49828215, 6.50128967,\n       6.50428817, 6.50578406, 6.50727771, 6.50876914, 6.51025834,\n       6.51174533, 6.51323011, 6.51471269, 6.51767127, 6.51914729,\n       6.52062113, 6.5220928 , 6.52356231, 6.52502966, 6.52649486,\n       6.52795792, 6.52941884, 6.53233429, 6.53378884, 6.53524127,\n       6.5366916 , 6.53813982, 6.53958596, 6.54103   , 6.54247196,\n       6.54391185, 6.54678541, 6.54965074, 6.55250789, 6.5539334 ,\n       6.55535689, 6.5581978 , 6.55961524, 6.56103067, 6.56385553,\n       6.56667243, 6.56807791, 6.56948142, 6.57088296, 6.57368017,\n       6.57646957, 6.57925121, 6.58202514, 6.58340922, 6.58479139,\n       6.58617165, 6.58755001, 6.59304453, 6.59441346, 6.59578051,\n       6.5971457 , 6.59850903, 6.5998705 , 6.60394382, 6.60529792,\n       6.60665019, 6.61204103, 6.61338422, 6.6147256 , 6.61606519,\n       6.61873898, 6.62007321, 6.63068339, 6.63331843, 6.6424868 ,\n       6.64378973, 6.64639051, 6.64768837, 6.64898455, 6.65027905,\n       6.65286303, 6.65415252, 6.65544035, 6.65672652, 6.65929392,\n       6.66185474, 6.6631327 , 6.66440902, 6.66568372, 6.66695679,\n       6.67076632, 6.67329797, 6.67456139, 6.67582322, 6.67708346,\n       6.67834211, 6.67959919, 6.6821086 , 6.68336095, 6.68586095,\n       6.68710861, 6.69332367, 6.69579892, 6.69703425, 6.69826805,\n       6.69950034, 6.70073111, 6.70196037, 6.70318811, 6.70686234,\n       6.70930434, 6.7129562 , 6.71417053, 6.71659477, 6.71901315,\n       6.72743172, 6.72862861, 6.7310181 , 6.73340189, 6.73815249,\n       6.73933663, 6.74170069, 6.74405919, 6.74641213, 6.74758653,\n       6.74875955, 6.75110147, 6.75343792, 6.7546041 , 6.75576892,\n       6.76041469, 6.76157277, 6.76388491, 6.76619171, 6.76734313,\n       6.76849321, 6.77308038, 6.78558765, 6.78784498, 6.78897174,\n       6.79346613, 6.79458658, 6.80017007, 6.80350526, 6.80461452,\n       6.82219739, 6.85012617, 6.87626461, 6.87832647]),)"
     ]
    }
   ],
   "source": [
    "target = train['count']\n",
    "features = train.drop(columns=['count'])\n",
    "\n",
    "target_log = np.log1p(target)\n",
    "\n",
    "train_input,test_input,train_target,test_target = train_test_split(features,target_log,random_state=42)\n",
    "# # 사이킷런 변환기 적용\n",
    "# poly = PolynomialFeatures()\n",
    "# poly.fit(train_input)\n",
    "# train_poly = poly.transform(train_input)\n",
    "# test_poly = poly.transform(test_input)\n",
    "\n",
    "# 특성 스케일 적용\n",
    "ss=StandardScaler()\n",
    "ss.fit(train_input)\n",
    "train_scaled = ss.transform(train_input)\n",
    "test_scaled = ss.transform(test_input)\n",
    "\n",
    "#SGDClassifier\n",
    "from sklearn.linear_model import SGDClassifier\n",
    "sc = SGDClassifier(loss='log',max_iter=1000, random_state=42)\n",
    "sc.fit(train_scaled, train_target)\n",
    "print(sc.score(train_scaled,train_target))\n",
    "print(sc.score(test_scaled,test_target))\n"
   ]
  },
  {
   "cell_type": "markdown",
   "metadata": {},
   "source": []
  },
  {
   "cell_type": "code",
   "execution_count": 50,
   "metadata": {},
   "outputs": [
    {
     "data": {
      "text/plain": [
       "10739"
      ]
     },
     "execution_count": 50,
     "metadata": {},
     "output_type": "execute_result"
    },
    {
     "data": {
      "image/png": "[encoded data removed]",
      "text/plain": [
       "<Figure size 432x288 with 1 Axes>"
      ]
     },
     "metadata": {
      "needs_background": "light"
     },
     "output_type": "display_data"
    }
   ],
   "source": [
    "sns.distplot(target,bins=range(int(target.min()),int(target.max())))\n",
    "target[np.logical_and(target.mean()-3*target.std() <= target,target.mean()+3*target.std() >= target)].count()"
   ]
  },
  {
   "cell_type": "code",
   "execution_count": 20,
   "metadata": {},
   "outputs": [
    {
     "name": "stdout",
     "output_type": "stream",
     "text": [
      "0.9476551039643976\n",
      "0.9430031526326007\n",
      "RMSLE Value 0.33767361702188675\n"
     ]
    }
   ],
   "source": [
    "# 그레이디언트 부스팅\n",
    "\n",
    "from sklearn.ensemble import GradientBoostingRegressor\n",
    "\n",
    "target = train['count']\n",
    "features = train.drop(columns=['count'])\n",
    "\n",
    "target_log = np.log1p(target)\n",
    "\n",
    "train_input,test_input,train_target,test_target = train_test_split(features,target_log,random_state=42)\n",
    "\n",
    "# 사이킷런 변환기 적용\n",
    "poly = PolynomialFeatures()\n",
    "poly.fit(train_input)\n",
    "train_poly = poly.transform(train_input)\n",
    "test_poly = poly.transform(test_input)\n",
    "\n",
    "# 특성 스케일 적용\n",
    "ss=StandardScaler()\n",
    "ss.fit(train_poly)\n",
    "train_scaled = ss.transform(train_poly)\n",
    "test_scaled = ss.transform(test_poly)\n",
    "\n",
    "gb = GradientBoostingRegressor()\n",
    "gb.fit(train_scaled,train_target)\n",
    "print(gb.score(train_scaled,train_target))\n",
    "print(gb.score(test_scaled,test_target))\n",
    "\n",
    "# 성능평가\n",
    "pred = gb.predict(test_scaled)\n",
    "\n",
    "# 다시 지수로 바꾸기\n",
    "test_target_exp = np.expm1(test_target)\n",
    "pred_exp = np.expm1(pred)\n",
    "print('RMSLE Value {}'.format(rmsle(test_target_exp,pred_exp,False)))"
   ]
  },
  {
   "cell_type": "code",
   "execution_count": 30,
   "metadata": {},
   "outputs": [
    {
     "name": "stdout",
     "output_type": "stream",
     "text": [
      "0.9294737840293372\n",
      "0.9257839466518053\n",
      "RMSLE Value for GradientBoosting 0.35968926817971497\n"
     ]
    }
   ],
   "source": []
  },
  {
   "cell_type": "code",
   "execution_count": 64,
   "metadata": {},
   "outputs": [
    {
     "name": "stdout",
     "output_type": "stream",
     "text": [
      "0.9923929935667375\n",
      "0.9484593098834108\n",
      "RMSLE Value 0.3211048219311768\n"
     ]
    }
   ],
   "source": [
    "# 랜덤 포레스트\n",
    "from sklearn.ensemble import RandomForestRegressor\n",
    "\n",
    "target = train['count']\n",
    "features = train.drop(columns=['count'])\n",
    "features_ohe = pd.get_dummies(features,columns=['year','month','hour','holiday','workingday','season','weather'])\n",
    "\n",
    "target_log = np.log1p(target)\n",
    "\n",
    "train_input,test_input,train_target,test_target = train_test_split(features_ohe,target_log,random_state=42)\n",
    "\n",
    "# 사이킷런 변환기 적용\n",
    "poly = PolynomialFeatures()\n",
    "poly.fit(train_input)\n",
    "train_poly = poly.transform(train_input)\n",
    "test_poly = poly.transform(test_input)\n",
    "\n",
    "# # 특성 스케일 적용\n",
    "# ss=StandardScaler()\n",
    "# ss.fit(train_poly)\n",
    "# train_scaled = ss.transform(train_poly)\n",
    "# test_scaled = ss.transform(test_poly)\n",
    "\n",
    "rf = RandomForestRegressor()\n",
    "rf.fit(train_poly,train_target)\n",
    "print(rf.score(train_poly,train_target))\n",
    "print(rf.score(test_poly,test_target))\n",
    "\n",
    "# 성능평가\n",
    "pred = rf.predict(test_poly)\n",
    "\n",
    "# 다시 지수로 바꾸기\n",
    "test_target_exp = np.expm1(test_target)\n",
    "pred_exp = np.expm1(pred)\n",
    "print('RMSLE Value {}'.format(rmsle(test_target_exp,pred_exp,False)))"
   ]
  },
  {
   "cell_type": "code",
   "execution_count": 65,
   "metadata": {},
   "outputs": [
    {
     "name": "stdout",
     "output_type": "stream",
     "text": [
      "<class 'pandas.core.frame.DataFrame'>\n",
      "RangeIndex: 10886 entries, 0 to 10885\n",
      "Data columns (total 12 columns):\n",
      " #   Column      Non-Null Count  Dtype  \n",
      "---  ------      --------------  -----  \n",
      " 0   season      10886 non-null  int64  \n",
      " 1   holiday     10886 non-null  int64  \n",
      " 2   workingday  10886 non-null  int64  \n",
      " 3   weather     10886 non-null  int64  \n",
      " 4   temp        10886 non-null  float64\n",
      " 5   atemp       10886 non-null  float64\n",
      " 6   humidity    10886 non-null  int64  \n",
      " 7   year        10886 non-null  int64  \n",
      " 8   month       10886 non-null  int64  \n",
      " 9   day         10886 non-null  int64  \n",
      " 10  hour        10886 non-null  int64  \n",
      " 11  dayofweek   10886 non-null  int64  \n",
      "dtypes: float64(2), int64(10)\n",
      "memory usage: 1020.7 KB\n"
     ]
    }
   ],
   "source": [
    "features.info()"
   ]
  },
  {
   "cell_type": "code",
   "execution_count": 75,
   "metadata": {},
   "outputs": [
    {
     "ename": "ValueError",
     "evalue": "X has 12 features, but DecisionTreeRegressor is expecting 1596 features as input.",
     "output_type": "error",
     "traceback": [
      "\u001b[1;31m---------------------------------------------------------------------------\u001b[0m",
      "\u001b[1;31mValueError\u001b[0m                                Traceback (most recent call last)",
      "\u001b[1;32m~\\AppData\\Local\\Temp/ipykernel_14392/4160827082.py\u001b[0m in \u001b[0;36m<module>\u001b[1;34m\u001b[0m\n\u001b[0;32m      1\u001b[0m \u001b[1;31m# 히스토그램 그래디언트\u001b[0m\u001b[1;33m\u001b[0m\u001b[1;33m\u001b[0m\u001b[0m\n\u001b[1;32m----> 2\u001b[1;33m \u001b[0mpred_rf\u001b[0m \u001b[1;33m=\u001b[0m \u001b[0mrf\u001b[0m\u001b[1;33m.\u001b[0m\u001b[0mpredict\u001b[0m\u001b[1;33m(\u001b[0m\u001b[0mtest\u001b[0m\u001b[1;33m)\u001b[0m\u001b[1;33m\u001b[0m\u001b[1;33m\u001b[0m\u001b[0m\n\u001b[0m\u001b[0;32m      3\u001b[0m \u001b[1;33m\u001b[0m\u001b[0m\n\u001b[0;32m      4\u001b[0m \u001b[1;31m# 다시 지수로 바꾸기\u001b[0m\u001b[1;33m\u001b[0m\u001b[1;33m\u001b[0m\u001b[0m\n\u001b[0;32m      5\u001b[0m \u001b[0mtest_target_exp\u001b[0m \u001b[1;33m=\u001b[0m \u001b[0mnp\u001b[0m\u001b[1;33m.\u001b[0m\u001b[0mexpm1\u001b[0m\u001b[1;33m(\u001b[0m\u001b[0mtest_target\u001b[0m\u001b[1;33m)\u001b[0m\u001b[1;33m\u001b[0m\u001b[1;33m\u001b[0m\u001b[0m\n",
      "\u001b[1;32mC:\\Anaconda3\\lib\\site-packages\\sklearn\\ensemble\\_forest.py\u001b[0m in \u001b[0;36mpredict\u001b[1;34m(self, X)\u001b[0m\n\u001b[0;32m    782\u001b[0m         \u001b[0mcheck_is_fitted\u001b[0m\u001b[1;33m(\u001b[0m\u001b[0mself\u001b[0m\u001b[1;33m)\u001b[0m\u001b[1;33m\u001b[0m\u001b[1;33m\u001b[0m\u001b[0m\n\u001b[0;32m    783\u001b[0m         \u001b[1;31m# Check data\u001b[0m\u001b[1;33m\u001b[0m\u001b[1;33m\u001b[0m\u001b[0m\n\u001b[1;32m--> 784\u001b[1;33m         \u001b[0mX\u001b[0m \u001b[1;33m=\u001b[0m \u001b[0mself\u001b[0m\u001b[1;33m.\u001b[0m\u001b[0m_validate_X_predict\u001b[0m\u001b[1;33m(\u001b[0m\u001b[0mX\u001b[0m\u001b[1;33m)\u001b[0m\u001b[1;33m\u001b[0m\u001b[1;33m\u001b[0m\u001b[0m\n\u001b[0m\u001b[0;32m    785\u001b[0m \u001b[1;33m\u001b[0m\u001b[0m\n\u001b[0;32m    786\u001b[0m         \u001b[1;31m# Assign chunk of trees to jobs\u001b[0m\u001b[1;33m\u001b[0m\u001b[1;33m\u001b[0m\u001b[0m\n",
      "\u001b[1;32mC:\\Anaconda3\\lib\\site-packages\\sklearn\\ensemble\\_forest.py\u001b[0m in \u001b[0;36m_validate_X_predict\u001b[1;34m(self, X)\u001b[0m\n\u001b[0;32m    420\u001b[0m         \u001b[0mcheck_is_fitted\u001b[0m\u001b[1;33m(\u001b[0m\u001b[0mself\u001b[0m\u001b[1;33m)\u001b[0m\u001b[1;33m\u001b[0m\u001b[1;33m\u001b[0m\u001b[0m\n\u001b[0;32m    421\u001b[0m \u001b[1;33m\u001b[0m\u001b[0m\n\u001b[1;32m--> 422\u001b[1;33m         \u001b[1;32mreturn\u001b[0m \u001b[0mself\u001b[0m\u001b[1;33m.\u001b[0m\u001b[0mestimators_\u001b[0m\u001b[1;33m[\u001b[0m\u001b[1;36m0\u001b[0m\u001b[1;33m]\u001b[0m\u001b[1;33m.\u001b[0m\u001b[0m_validate_X_predict\u001b[0m\u001b[1;33m(\u001b[0m\u001b[0mX\u001b[0m\u001b[1;33m,\u001b[0m \u001b[0mcheck_input\u001b[0m\u001b[1;33m=\u001b[0m\u001b[1;32mTrue\u001b[0m\u001b[1;33m)\u001b[0m\u001b[1;33m\u001b[0m\u001b[1;33m\u001b[0m\u001b[0m\n\u001b[0m\u001b[0;32m    423\u001b[0m \u001b[1;33m\u001b[0m\u001b[0m\n\u001b[0;32m    424\u001b[0m     \u001b[1;33m@\u001b[0m\u001b[0mproperty\u001b[0m\u001b[1;33m\u001b[0m\u001b[1;33m\u001b[0m\u001b[0m\n",
      "\u001b[1;32mC:\\Anaconda3\\lib\\site-packages\\sklearn\\tree\\_classes.py\u001b[0m in \u001b[0;36m_validate_X_predict\u001b[1;34m(self, X, check_input)\u001b[0m\n\u001b[0;32m    405\u001b[0m         \u001b[1;34m\"\"\"Validate the training data on predict (probabilities).\"\"\"\u001b[0m\u001b[1;33m\u001b[0m\u001b[1;33m\u001b[0m\u001b[0m\n\u001b[0;32m    406\u001b[0m         \u001b[1;32mif\u001b[0m \u001b[0mcheck_input\u001b[0m\u001b[1;33m:\u001b[0m\u001b[1;33m\u001b[0m\u001b[1;33m\u001b[0m\u001b[0m\n\u001b[1;32m--> 407\u001b[1;33m             X = self._validate_data(X, dtype=DTYPE, accept_sparse=\"csr\",\n\u001b[0m\u001b[0;32m    408\u001b[0m                                     reset=False)\n\u001b[0;32m    409\u001b[0m             if issparse(X) and (X.indices.dtype != np.intc or\n",
      "\u001b[1;32mC:\\Anaconda3\\lib\\site-packages\\sklearn\\base.py\u001b[0m in \u001b[0;36m_validate_data\u001b[1;34m(self, X, y, reset, validate_separately, **check_params)\u001b[0m\n\u001b[0;32m    435\u001b[0m \u001b[1;33m\u001b[0m\u001b[0m\n\u001b[0;32m    436\u001b[0m         \u001b[1;32mif\u001b[0m \u001b[0mcheck_params\u001b[0m\u001b[1;33m.\u001b[0m\u001b[0mget\u001b[0m\u001b[1;33m(\u001b[0m\u001b[1;34m'ensure_2d'\u001b[0m\u001b[1;33m,\u001b[0m \u001b[1;32mTrue\u001b[0m\u001b[1;33m)\u001b[0m\u001b[1;33m:\u001b[0m\u001b[1;33m\u001b[0m\u001b[1;33m\u001b[0m\u001b[0m\n\u001b[1;32m--> 437\u001b[1;33m             \u001b[0mself\u001b[0m\u001b[1;33m.\u001b[0m\u001b[0m_check_n_features\u001b[0m\u001b[1;33m(\u001b[0m\u001b[0mX\u001b[0m\u001b[1;33m,\u001b[0m \u001b[0mreset\u001b[0m\u001b[1;33m=\u001b[0m\u001b[0mreset\u001b[0m\u001b[1;33m)\u001b[0m\u001b[1;33m\u001b[0m\u001b[1;33m\u001b[0m\u001b[0m\n\u001b[0m\u001b[0;32m    438\u001b[0m \u001b[1;33m\u001b[0m\u001b[0m\n\u001b[0;32m    439\u001b[0m         \u001b[1;32mreturn\u001b[0m \u001b[0mout\u001b[0m\u001b[1;33m\u001b[0m\u001b[1;33m\u001b[0m\u001b[0m\n",
      "\u001b[1;32mC:\\Anaconda3\\lib\\site-packages\\sklearn\\base.py\u001b[0m in \u001b[0;36m_check_n_features\u001b[1;34m(self, X, reset)\u001b[0m\n\u001b[0;32m    363\u001b[0m \u001b[1;33m\u001b[0m\u001b[0m\n\u001b[0;32m    364\u001b[0m         \u001b[1;32mif\u001b[0m \u001b[0mn_features\u001b[0m \u001b[1;33m!=\u001b[0m \u001b[0mself\u001b[0m\u001b[1;33m.\u001b[0m\u001b[0mn_features_in_\u001b[0m\u001b[1;33m:\u001b[0m\u001b[1;33m\u001b[0m\u001b[1;33m\u001b[0m\u001b[0m\n\u001b[1;32m--> 365\u001b[1;33m             raise ValueError(\n\u001b[0m\u001b[0;32m    366\u001b[0m                 \u001b[1;34mf\"X has {n_features} features, but {self.__class__.__name__} \"\u001b[0m\u001b[1;33m\u001b[0m\u001b[1;33m\u001b[0m\u001b[0m\n\u001b[0;32m    367\u001b[0m                 f\"is expecting {self.n_features_in_} features as input.\")\n",
      "\u001b[1;31mValueError\u001b[0m: X has 12 features, but DecisionTreeRegressor is expecting 1596 features as input."
     ]
    }
   ],
   "source": [
    "# 히스토그램 그래디언트\n",
    "pred_rf = rf.predict(test)\n",
    "\n",
    "# 다시 지수로 바꾸기\n",
    "test_target_exp = np.expm1(test_target)\n",
    "pred_rf_exp = np.expm1(pred_rf)\n",
    "# evaluate_regr(test_target_exp,pred_exp)\n",
    "\n",
    "len(pred_rf_exp)"
   ]
  },
  {
   "cell_type": "code",
   "execution_count": 33,
   "metadata": {},
   "outputs": [
    {
     "data": {
      "text/plain": [
       "<AxesSubplot:ylabel='Density'>"
      ]
     },
     "execution_count": 33,
     "metadata": {},
     "output_type": "execute_result"
    },
    {
     "data": {
      "image/png": "[encoded data removed]",
      "text/plain": [
       "<Figure size 864x360 with 2 Axes>"
      ]
     },
     "metadata": {
      "needs_background": "light"
     },
     "output_type": "display_data"
    }
   ],
   "source": [
    "predsTest = rf.predict(test)\n",
    "fig,(ax1,ax2)= plt.subplots(ncols=2)\n",
    "fig.set_size_inches(12,5)\n",
    "sns.distplot(target,ax=ax1,bins=50)\n",
    "sns.distplot(preds_rf_exp,ax=ax2,bins=50)"
   ]
  },
  {
   "cell_type": "code",
   "execution_count": 68,
   "metadata": {},
   "outputs": [
    {
     "ename": "ValueError",
     "evalue": "Length of values (2722) does not match length of index (6493)",
     "output_type": "error",
     "traceback": [
      "\u001b[1;31m---------------------------------------------------------------------------\u001b[0m",
      "\u001b[1;31mValueError\u001b[0m                                Traceback (most recent call last)",
      "\u001b[1;32m~\\AppData\\Local\\Temp/ipykernel_14392/1158317968.py\u001b[0m in \u001b[0;36m<module>\u001b[1;34m\u001b[0m\n\u001b[0;32m      1\u001b[0m \u001b[0msubmit\u001b[0m \u001b[1;33m=\u001b[0m \u001b[0mpd\u001b[0m\u001b[1;33m.\u001b[0m\u001b[0mread_csv\u001b[0m\u001b[1;33m(\u001b[0m\u001b[1;34m\"./input/sampleSubmission.csv\"\u001b[0m\u001b[1;33m)\u001b[0m\u001b[1;33m\u001b[0m\u001b[1;33m\u001b[0m\u001b[0m\n\u001b[1;32m----> 2\u001b[1;33m \u001b[0msubmit\u001b[0m\u001b[1;33m[\u001b[0m\u001b[1;34m'count'\u001b[0m\u001b[1;33m]\u001b[0m \u001b[1;33m=\u001b[0m \u001b[0mpred_rf_exp\u001b[0m\u001b[1;33m\u001b[0m\u001b[1;33m\u001b[0m\u001b[0m\n\u001b[0m\u001b[0;32m      3\u001b[0m \u001b[0msubmit\u001b[0m\u001b[1;33m.\u001b[0m\u001b[0mto_csv\u001b[0m\u001b[1;33m(\u001b[0m\u001b[1;34m\"./results_rf_1.4.csv\"\u001b[0m\u001b[1;33m,\u001b[0m\u001b[0mindex\u001b[0m\u001b[1;33m=\u001b[0m\u001b[1;32mFalse\u001b[0m\u001b[1;33m)\u001b[0m\u001b[1;33m\u001b[0m\u001b[1;33m\u001b[0m\u001b[0m\n",
      "\u001b[1;32mC:\\Anaconda3\\lib\\site-packages\\pandas\\core\\frame.py\u001b[0m in \u001b[0;36m__setitem__\u001b[1;34m(self, key, value)\u001b[0m\n\u001b[0;32m   3610\u001b[0m         \u001b[1;32melse\u001b[0m\u001b[1;33m:\u001b[0m\u001b[1;33m\u001b[0m\u001b[1;33m\u001b[0m\u001b[0m\n\u001b[0;32m   3611\u001b[0m             \u001b[1;31m# set column\u001b[0m\u001b[1;33m\u001b[0m\u001b[1;33m\u001b[0m\u001b[0m\n\u001b[1;32m-> 3612\u001b[1;33m             \u001b[0mself\u001b[0m\u001b[1;33m.\u001b[0m\u001b[0m_set_item\u001b[0m\u001b[1;33m(\u001b[0m\u001b[0mkey\u001b[0m\u001b[1;33m,\u001b[0m \u001b[0mvalue\u001b[0m\u001b[1;33m)\u001b[0m\u001b[1;33m\u001b[0m\u001b[1;33m\u001b[0m\u001b[0m\n\u001b[0m\u001b[0;32m   3613\u001b[0m \u001b[1;33m\u001b[0m\u001b[0m\n\u001b[0;32m   3614\u001b[0m     \u001b[1;32mdef\u001b[0m \u001b[0m_setitem_slice\u001b[0m\u001b[1;33m(\u001b[0m\u001b[0mself\u001b[0m\u001b[1;33m,\u001b[0m \u001b[0mkey\u001b[0m\u001b[1;33m:\u001b[0m \u001b[0mslice\u001b[0m\u001b[1;33m,\u001b[0m \u001b[0mvalue\u001b[0m\u001b[1;33m)\u001b[0m\u001b[1;33m:\u001b[0m\u001b[1;33m\u001b[0m\u001b[1;33m\u001b[0m\u001b[0m\n",
      "\u001b[1;32mC:\\Anaconda3\\lib\\site-packages\\pandas\\core\\frame.py\u001b[0m in \u001b[0;36m_set_item\u001b[1;34m(self, key, value)\u001b[0m\n\u001b[0;32m   3782\u001b[0m         \u001b[0mensure\u001b[0m \u001b[0mhomogeneity\u001b[0m\u001b[1;33m.\u001b[0m\u001b[1;33m\u001b[0m\u001b[1;33m\u001b[0m\u001b[0m\n\u001b[0;32m   3783\u001b[0m         \"\"\"\n\u001b[1;32m-> 3784\u001b[1;33m         \u001b[0mvalue\u001b[0m \u001b[1;33m=\u001b[0m \u001b[0mself\u001b[0m\u001b[1;33m.\u001b[0m\u001b[0m_sanitize_column\u001b[0m\u001b[1;33m(\u001b[0m\u001b[0mvalue\u001b[0m\u001b[1;33m)\u001b[0m\u001b[1;33m\u001b[0m\u001b[1;33m\u001b[0m\u001b[0m\n\u001b[0m\u001b[0;32m   3785\u001b[0m \u001b[1;33m\u001b[0m\u001b[0m\n\u001b[0;32m   3786\u001b[0m         if (\n",
      "\u001b[1;32mC:\\Anaconda3\\lib\\site-packages\\pandas\\core\\frame.py\u001b[0m in \u001b[0;36m_sanitize_column\u001b[1;34m(self, value)\u001b[0m\n\u001b[0;32m   4507\u001b[0m \u001b[1;33m\u001b[0m\u001b[0m\n\u001b[0;32m   4508\u001b[0m         \u001b[1;32mif\u001b[0m \u001b[0mis_list_like\u001b[0m\u001b[1;33m(\u001b[0m\u001b[0mvalue\u001b[0m\u001b[1;33m)\u001b[0m\u001b[1;33m:\u001b[0m\u001b[1;33m\u001b[0m\u001b[1;33m\u001b[0m\u001b[0m\n\u001b[1;32m-> 4509\u001b[1;33m             \u001b[0mcom\u001b[0m\u001b[1;33m.\u001b[0m\u001b[0mrequire_length_match\u001b[0m\u001b[1;33m(\u001b[0m\u001b[0mvalue\u001b[0m\u001b[1;33m,\u001b[0m \u001b[0mself\u001b[0m\u001b[1;33m.\u001b[0m\u001b[0mindex\u001b[0m\u001b[1;33m)\u001b[0m\u001b[1;33m\u001b[0m\u001b[1;33m\u001b[0m\u001b[0m\n\u001b[0m\u001b[0;32m   4510\u001b[0m         \u001b[1;32mreturn\u001b[0m \u001b[0msanitize_array\u001b[0m\u001b[1;33m(\u001b[0m\u001b[0mvalue\u001b[0m\u001b[1;33m,\u001b[0m \u001b[0mself\u001b[0m\u001b[1;33m.\u001b[0m\u001b[0mindex\u001b[0m\u001b[1;33m,\u001b[0m \u001b[0mcopy\u001b[0m\u001b[1;33m=\u001b[0m\u001b[1;32mTrue\u001b[0m\u001b[1;33m,\u001b[0m \u001b[0mallow_2d\u001b[0m\u001b[1;33m=\u001b[0m\u001b[1;32mTrue\u001b[0m\u001b[1;33m)\u001b[0m\u001b[1;33m\u001b[0m\u001b[1;33m\u001b[0m\u001b[0m\n\u001b[0;32m   4511\u001b[0m \u001b[1;33m\u001b[0m\u001b[0m\n",
      "\u001b[1;32mC:\\Anaconda3\\lib\\site-packages\\pandas\\core\\common.py\u001b[0m in \u001b[0;36mrequire_length_match\u001b[1;34m(data, index)\u001b[0m\n\u001b[0;32m    529\u001b[0m     \"\"\"\n\u001b[0;32m    530\u001b[0m     \u001b[1;32mif\u001b[0m \u001b[0mlen\u001b[0m\u001b[1;33m(\u001b[0m\u001b[0mdata\u001b[0m\u001b[1;33m)\u001b[0m \u001b[1;33m!=\u001b[0m \u001b[0mlen\u001b[0m\u001b[1;33m(\u001b[0m\u001b[0mindex\u001b[0m\u001b[1;33m)\u001b[0m\u001b[1;33m:\u001b[0m\u001b[1;33m\u001b[0m\u001b[1;33m\u001b[0m\u001b[0m\n\u001b[1;32m--> 531\u001b[1;33m         raise ValueError(\n\u001b[0m\u001b[0;32m    532\u001b[0m             \u001b[1;34m\"Length of values \"\u001b[0m\u001b[1;33m\u001b[0m\u001b[1;33m\u001b[0m\u001b[0m\n\u001b[0;32m    533\u001b[0m             \u001b[1;34mf\"({len(data)}) \"\u001b[0m\u001b[1;33m\u001b[0m\u001b[1;33m\u001b[0m\u001b[0m\n",
      "\u001b[1;31mValueError\u001b[0m: Length of values (2722) does not match length of index (6493)"
     ]
    }
   ],
   "source": [
    "submit = pd.read_csv(\"./input/sampleSubmission.csv\")\n",
    "submit['count'] = pred_rf_exp\n",
    "submit.to_csv(\"./results_rf_1.4.csv\",index=False)"
   ]
  },
  {
   "cell_type": "markdown",
   "metadata": {},
   "source": [
    "1.0v 다른점\n",
    "windspeed == 0 을 windspeed.mean()으로 바꿈\n",
    "\n",
    "\n"
   ]
  },
  {
   "cell_type": "markdown",
   "metadata": {},
   "source": [
    "0.44727 더 안 좋아 졌다."
   ]
  },
  {
   "cell_type": "markdown",
   "metadata": {},
   "source": []
  }
 ],
 "metadata": {
  "interpreter": {
   "hash": "97ae724bfa85b9b34df7982b8bb8c7216f435b92902d749e4263f71162bea840"
  },
  "kernelspec": {
   "display_name": "Python 3.9.7 ('base')",
   "language": "python",
   "name": "python3"
  },
  "language_info": {
   "codemirror_mode": {
    "name": "ipython",
    "version": 3
   },
   "file_extension": ".py",
   "mimetype": "text/x-python",
   "name": "python",
   "nbconvert_exporter": "python",
   "pygments_lexer": "ipython3",
   "version": "3.9.7"
  },
  "orig_nbformat": 4
 },
 "nbformat": 4,
 "nbformat_minor": 2
}
