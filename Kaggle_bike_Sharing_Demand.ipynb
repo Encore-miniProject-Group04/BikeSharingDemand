{
 "cells": [
  {
   "cell_type": "markdown",
   "id": "545495d8",
   "metadata": {},
   "source": [
    "# 기초 사용법"
   ]
  },
  {
   "cell_type": "markdown",
   "id": "ecd1d198",
   "metadata": {},
   "source": [
    "[opencv document](https://docs.opencv.org/4.5.5/)"
   ]
  },
  {
   "cell_type": "code",
   "execution_count": 1,
   "id": "c31c415c",
   "metadata": {},
   "outputs": [],
   "source": [
    "import cv2"
   ]
  },
  {
   "cell_type": "code",
   "execution_count": null,
   "id": "dbdc491c",
   "metadata": {},
   "outputs": [],
   "source": [
    "cv2.__version__"
   ]
  },
  {
   "cell_type": "code",
   "execution_count": null,
   "id": "02e57c3c",
   "metadata": {},
   "outputs": [],
   "source": [
    "img = cv2.imread('./data/lenna.bmp')\n",
    "\n",
    "print(img.shape)\n",
    "\n",
    "cv2.namedWindow(\"image\")\n",
    "cv2.imshow(\"image\", img)\n",
    "\n",
    "## 종료조건\n",
    "cv2.waitKey()\n",
    "cv2.destroyAllWindows()"
   ]
  },
  {
   "cell_type": "markdown",
   "id": "99b4f398",
   "metadata": {},
   "source": [
    "### Workshop : 영상 파일 읽기 및 화면 표시\n",
    "\n",
    "1. './data/lena.jpg' 파일을 읽어 들여서 컬러로 화면에 표시하고 키보드에서 아무 키나 누르면 윈도우가 사라지도록 하라.\n",
    "\n",
    "2. './data/lena.jpg' 파일을 읽어 들여서 흑백으로 화면에 표시하고 키보드에서 아무 키나 누르면 윈도우가 사라지도록 하라."
   ]
  },
  {
   "cell_type": "code",
   "execution_count": null,
   "id": "182f48a1",
   "metadata": {},
   "outputs": [],
   "source": [
    "# TODO\n",
    "imgFile = './data/lena.jpg'\n",
    "\n",
    "imgColor = cv2.imread(imgFile, cv2.IMREAD_COLOR)\n",
    "imgGray = cv2.imread(imgFile, cv2.IMREAD_GRAYSCALE)\n",
    "\n",
    "cv2.imshow(\"Lene Color\", imgColor)\n",
    "cv2.imshow(\"Lene GrayScale\", imgGray)\n",
    "\n",
    "cv2.waitKey()\n",
    "cv2.destroyAllWindows()\n"
   ]
  },
  {
   "cell_type": "markdown",
   "id": "76e16fe0",
   "metadata": {},
   "source": [
    "### Workshop : 영상 파일 저장\n",
    "\n",
    "1. './data/lena.jpg' 파일을 읽어 들여서 bmp 파일 형식의 './out/Lena.bmp'로 저장하라.\n",
    "\n",
    "2. './data/lena.jpg' 파일을 읽어 들여서 png 파일 형식의 './out/Lena.png'로 저장하라.\n",
    "\n",
    "3. './data/lena.jpg' 파일을 읽어 들여서 png 파일 형식의 './out/Lena2.png'로 저장하되 압축률 90%를 적용하라. \n",
    "\n",
    "4. './data/lena.jpg' 파일을 읽어 들여서 jpg 파일 형식의 './out/Lena2.jpg'로 저장하되 압축률 50%를 적용하라 "
   ]
  },
  {
   "cell_type": "code",
   "execution_count": null,
   "id": "8a867767",
   "metadata": {},
   "outputs": [],
   "source": [
    "# TODO\n",
    "imgFile = './data/lena.jpg'\n",
    "imgColor = cv2.imread(imgFile, cv2.IMREAD_COLOR)\n",
    "\n",
    "cv2.imwrite('./out/Lena.bmp', imgColor)\n",
    "cv2.imwrite('./out/Lena.png', imgColor)\n",
    "\n",
    "cv2.imwrite('./out/Lena2.png', imgColor, [cv2.IMWRITE_PNG_COMPRESSION, 9]) #0~9\n",
    "cv2.imwrite('./out/Lena2.jpg', imgColor, [cv2.IMWRITE_JPEG_QUALITY, 90]) #0~100"
   ]
  },
  {
   "cell_type": "markdown",
   "id": "ed8d6e97",
   "metadata": {},
   "source": [
    "### Workshop : matplotlib 1 컬러영상 표시\n",
    "1. openCV를 이용해 './data/lena.jpg' 파일을 읽어 들인 후 matplotlib.pyplot의 imshow() 함수를 사용해 화면에 표시하라. \n",
    "- 결과 확인\n",
    "2. openCV를 이용해 './data/lena.jpg' 파일을 읽어 들인 후 matplotlib.pyplot의 imshow() 함수를 사용해 화면에 표시하라. \n",
    "- 표시된 결과가 원본과 동일한 색조가 되도록 변환 후 화면에 표시\n",
    "3. openCV를 이용해 './data/lena.jpg' 파일을 읽어 들인 후 matplotlib.pyplot의 imshow() 함수를 사용해 화면에 표시하라. \n",
    "- numpy ndarray의 색인 문법으로 컬러 채널의 순서를 변경"
   ]
  },
  {
   "cell_type": "code",
   "execution_count": null,
   "id": "b4aa7b28",
   "metadata": {},
   "outputs": [],
   "source": [
    "#TODO\n",
    "import matplotlib.pyplot as plt\n",
    "imgFile = './data/lena.jpg'\n",
    "img = cv2.imread(imgFile)\n",
    "\n",
    "plt.imshow(img)"
   ]
  },
  {
   "cell_type": "code",
   "execution_count": null,
   "id": "38873943",
   "metadata": {},
   "outputs": [],
   "source": [
    "imgRGB = cv2.cvtColor(img, cv2.COLOR_BGR2RGB)\n",
    "plt.imshow(imgRGB)"
   ]
  },
  {
   "cell_type": "code",
   "execution_count": null,
   "id": "66f85fff",
   "metadata": {},
   "outputs": [],
   "source": [
    "img.shape"
   ]
  },
  {
   "cell_type": "code",
   "execution_count": null,
   "id": "93a8dc5d",
   "metadata": {},
   "outputs": [],
   "source": [
    "import numpy as np\n",
    "\n",
    "imgRGB = np.zeros(img.shape, dtype='uint8')\n",
    "print(imgRGB.dtype)\n",
    "\n",
    "imgRGB[:, :, 2] = img[:, :, 0] #blue channel\n",
    "imgRGB[:, :, 1] = img[:, :, 1] #green channel\n",
    "imgRGB[:, :, 0] = img[:, :, 2] #red channel\n",
    "\n",
    "plt.imshow(imgRGB)"
   ]
  },
  {
   "cell_type": "code",
   "execution_count": null,
   "id": "0c4e9dfd",
   "metadata": {},
   "outputs": [],
   "source": [
    "import numpy as np\n",
    "\n",
    "imgRGB = np.zeros(img.shape)\n",
    "print(imgRGB.dtype)\n",
    "\n",
    "imgRGB[:, :, 2] = img[:, :, 0] #blue channel\n",
    "imgRGB[:, :, 1] = img[:, :, 1] #green channel\n",
    "imgRGB[:, :, 0] = img[:, :, 2] #red channel\n",
    "\n",
    "imgRGB= imgRGB/255.0 #0~1\n",
    "\n",
    "plt.imshow(imgRGB)"
   ]
  },
  {
   "cell_type": "markdown",
   "id": "d21d567e",
   "metadata": {},
   "source": [
    "# 행렬 연산"
   ]
  },
  {
   "cell_type": "markdown",
   "id": "e6d1b391",
   "metadata": {},
   "source": [
    "### 행렬 : numpy ndarray"
   ]
  },
  {
   "cell_type": "code",
   "execution_count": null,
   "id": "4e0cc547",
   "metadata": {},
   "outputs": [],
   "source": [
    "import sys\n",
    "\n",
    "img = cv2.imread('./data/cat.bmp', cv2.IMREAD_GRAYSCALE)\n",
    "\n",
    "if img is None:\n",
    "    print(\"Image load failed!!!\")\n",
    "    sys.exit()\n",
    "    \n",
    "print(\"type(img) : \", type(img))\n",
    "print(\"shape(img) : \", img.shape)\n",
    "\n",
    "cv2.imshow(\"img\", img)\n",
    "cv2.waitKey()\n",
    "cv2.destroyAllWindows()"
   ]
  },
  {
   "cell_type": "markdown",
   "id": "52829ab0",
   "metadata": {},
   "source": [
    "### 행렬의 생성과 초기화"
   ]
  },
  {
   "cell_type": "code",
   "execution_count": null,
   "id": "903111ce",
   "metadata": {},
   "outputs": [],
   "source": [
    "img1 = np.empty((480, 640), np.uint8)\n",
    "img2 = np.zeros((480, 640), np.uint8)\n",
    "img3 = np.ones((480, 640), np.uint8)\n",
    "\n",
    "img4 = np.full((480, 640), 0, np.float32)\n",
    "print(type(img1), type(img2), type(img3), type(img4))"
   ]
  },
  {
   "cell_type": "code",
   "execution_count": null,
   "id": "06372cb5",
   "metadata": {},
   "outputs": [],
   "source": [
    "l = [[1, 2, 3, 4],\n",
    "     [5, 6, 7, 8],\n",
    "     [9, 10, 11, 12]] #python list\n",
    "\n",
    "mat = np.array(l)\n",
    "print(type(mat), '\\n', mat)"
   ]
  },
  {
   "cell_type": "code",
   "execution_count": null,
   "id": "07ad950a",
   "metadata": {},
   "outputs": [],
   "source": [
    "mat[0, 1] = 100\n",
    "mat"
   ]
  },
  {
   "cell_type": "code",
   "execution_count": null,
   "id": "24be739c",
   "metadata": {},
   "outputs": [],
   "source": [
    "mat[2, :] = 200\n",
    "mat"
   ]
  },
  {
   "cell_type": "markdown",
   "id": "a393200d",
   "metadata": {},
   "source": [
    "### 행렬의 복사"
   ]
  },
  {
   "cell_type": "code",
   "execution_count": null,
   "id": "9961104b",
   "metadata": {},
   "outputs": [],
   "source": [
    "img1 = cv2.imread('./data/cat.bmp')\n",
    "\n",
    "img2 = img1\n",
    "img3 = img1.copy()\n",
    "\n",
    "img1[:, :] = (0, 255, 255) #yellow\n",
    "\n",
    "cv2.imshow(\"img2\", img2)\n",
    "cv2.imshow(\"img3\", img3)\n",
    "cv2.waitKey()\n",
    "cv2.destroyAllWindows()"
   ]
  },
  {
   "cell_type": "markdown",
   "id": "2a79cf0e",
   "metadata": {},
   "source": [
    "### 행렬 원소값 참조"
   ]
  },
  {
   "cell_type": "code",
   "execution_count": null,
   "id": "aad94fa9",
   "metadata": {},
   "outputs": [],
   "source": [
    "np.arange(12).reshape(3, 4)"
   ]
  },
  {
   "cell_type": "code",
   "execution_count": null,
   "id": "fc585e67",
   "metadata": {},
   "outputs": [],
   "source": [
    "mat1 = np.array(np.arange(12).reshape(3, 4))\n",
    "\n",
    "mat2 = np.zeros(mat1.shape, type(mat1))\n",
    "\n",
    "h, w = mat1.shape\n",
    "\n",
    "for j in range(h):\n",
    "    for i in range(w):\n",
    "        mat2[j, i] = mat[j, i] + 10\n",
    "        \n",
    "print(mat1)\n",
    "print(mat2)"
   ]
  },
  {
   "cell_type": "code",
   "execution_count": null,
   "id": "2a5fa0dd",
   "metadata": {},
   "outputs": [],
   "source": [
    "mat2 = mat1 + 10 # broadcasting\n",
    "mat2"
   ]
  },
  {
   "cell_type": "markdown",
   "id": "54a7b16f",
   "metadata": {},
   "source": [
    "### 행렬 연산"
   ]
  },
  {
   "cell_type": "code",
   "execution_count": null,
   "id": "fcef03a6",
   "metadata": {},
   "outputs": [],
   "source": [
    "mat1 = np.ones((3, 4), np.int32)\n",
    "mat2 = np.arange(12).reshape(3, 4)\n",
    "mat3 = mat1 + mat2\n",
    "mat4 = mat2 * 2"
   ]
  },
  {
   "cell_type": "markdown",
   "id": "ea71c67d",
   "metadata": {},
   "source": [
    "### Workshop : 이미지에 테두리 그리기"
   ]
  },
  {
   "cell_type": "code",
   "execution_count": null,
   "id": "297b193a",
   "metadata": {},
   "outputs": [],
   "source": [
    "img = plt.imread('./data/psj.png')\n",
    "plt.imshow(img)"
   ]
  },
  {
   "cell_type": "code",
   "execution_count": null,
   "id": "5edbdf71",
   "metadata": {},
   "outputs": [],
   "source": [
    "img.shape, type(img)"
   ]
  },
  {
   "cell_type": "code",
   "execution_count": null,
   "id": "8e513941",
   "metadata": {},
   "outputs": [],
   "source": [
    "img[0, 0]"
   ]
  },
  {
   "cell_type": "code",
   "execution_count": null,
   "id": "2397bca1",
   "metadata": {},
   "outputs": [],
   "source": [
    "img[0, 0, 0] = 1 #R channel에 최대 밝기값 부여\n",
    "img[0, 0, 1] = 0 #G channel에 최소 밝기값 부여\n",
    "img[0, 0, 2] = 0 #B channel에 최소 밝기값 부여"
   ]
  },
  {
   "cell_type": "code",
   "execution_count": null,
   "id": "6689f18d",
   "metadata": {},
   "outputs": [],
   "source": [
    "img[0, 0]"
   ]
  },
  {
   "cell_type": "code",
   "execution_count": null,
   "id": "a389bb49",
   "metadata": {},
   "outputs": [],
   "source": [
    "plt.imshow(img)"
   ]
  },
  {
   "cell_type": "code",
   "execution_count": null,
   "id": "6920cfb9",
   "metadata": {},
   "outputs": [],
   "source": [
    "# 좌상단 끝(10*10)을 빨가색으로 바꿔보기\n",
    "img = plt.imread('./data/psj.png')\n",
    "img[0:10, 0:10, 0] = 1\n",
    "img[0:10, 0:10, 1] = 0\n",
    "img[0:10, 0:10, 2] = 0\n",
    "plt.imshow(img)"
   ]
  },
  {
   "cell_type": "code",
   "execution_count": null,
   "id": "6ac7c00c",
   "metadata": {},
   "outputs": [],
   "source": [
    "img = plt.imread('./data/psj.png')\n",
    "img[0:150, :, 0] = 1\n",
    "img[0:150, :, 1] = 1\n",
    "img[0:150, :, 2] = 1\n",
    "plt.imshow(img)"
   ]
  },
  {
   "cell_type": "code",
   "execution_count": null,
   "id": "c13ad798",
   "metadata": {},
   "outputs": [],
   "source": [
    "img.shape[1] - 10"
   ]
  },
  {
   "cell_type": "code",
   "execution_count": null,
   "id": "170d4487",
   "metadata": {},
   "outputs": [],
   "source": [
    "img.shape[0]"
   ]
  },
  {
   "cell_type": "code",
   "execution_count": null,
   "id": "068a76ee",
   "metadata": {},
   "outputs": [],
   "source": [
    "img = plt.imread('./data/psj.png')\n",
    "# 상단 가로\n",
    "img[0:10, :] = [1, 1, 0, 1]\n",
    "# 좌측 세로\n",
    "img[:, 0:10] = [1, 1, 0, 1]\n",
    "# 우측 세로\n",
    "img[:, img.shape[1] - 10:] = [1, 1, 0, 1]\n",
    "# 하단 가로\n",
    "img[img.shape[0]-10:, :] = [1, 1, 0, 1]\n",
    "\n",
    "plt.imshow(img)"
   ]
  },
  {
   "cell_type": "code",
   "execution_count": null,
   "id": "376a5681",
   "metadata": {},
   "outputs": [],
   "source": [
    "# 반전\n",
    "img = plt.imread('./data/psj.png')\n",
    "img[:, :, :3] = 1-img[:, :, :3]\n",
    "plt.imshow(img)"
   ]
  },
  {
   "cell_type": "code",
   "execution_count": null,
   "id": "48890f62",
   "metadata": {},
   "outputs": [],
   "source": [
    "# 4번째 채널(alpha channel)\n",
    "img = plt.imread('./data/psj.png')\n",
    "img[:, :, 3] = 0.3\n",
    "plt.imshow(img)"
   ]
  },
  {
   "cell_type": "markdown",
   "id": "cdb67315",
   "metadata": {},
   "source": [
    "# 동영상 파일 다루기"
   ]
  },
  {
   "cell_type": "markdown",
   "id": "eadc286b",
   "metadata": {},
   "source": [
    "### 카메라 입력"
   ]
  },
  {
   "cell_type": "code",
   "execution_count": null,
   "id": "6dcee0bf",
   "metadata": {},
   "outputs": [],
   "source": [
    "cap = cv2.VideoCapture(0) # 카메라 디바이스, 동영상 파일명, 스트리밍 주소\n",
    "\n",
    "if not cap.isOpened():\n",
    "    print(\"Camera open failed!!\")\n",
    "    sys.exit()\n",
    "\n",
    "\n",
    "w, h = int(cap.get(cv2.CAP_PROP_FRAME_WIDTH)), int(cap.get(cv2.CAP_PROP_FRAME_HEIGHT))\n",
    "print(\"frame width, height:\", w, h)\n",
    "\n",
    "while True:\n",
    "    ret, frame = cap.read()\n",
    "    \n",
    "    if not ret:\n",
    "        break\n",
    "    \n",
    "    inversed = ~frame\n",
    "    \n",
    "    cv2.imshow(\"frame\", frame)\n",
    "    cv2.imshow(\"inversed\", inversed)\n",
    "    \n",
    "    if cv2.waitKey(10) == 27: #sleep 효과\n",
    "        break\n",
    "\n",
    "if cap.isOpened():\n",
    "    cap.release()\n",
    "\n",
    "cv2.destroyAllWindows()"
   ]
  },
  {
   "cell_type": "markdown",
   "id": "a2aeab67",
   "metadata": {},
   "source": [
    "### 동영상 파일"
   ]
  },
  {
   "cell_type": "code",
   "execution_count": 2,
   "id": "e229dfef",
   "metadata": {},
   "outputs": [
    {
     "name": "stdout",
     "output_type": "stream",
     "text": [
      "frame width, height: 640 480\n",
      "fps :  30.0\n"
     ]
    }
   ],
   "source": [
    "cap = cv2.VideoCapture('./data/stopwatch.avi') # 카메라 디바이스, 동영상 파일명, 스트리밍 주소\n",
    "\n",
    "if not cap.isOpened():\n",
    "    print(\"Camera open failed!!\")\n",
    "    sys.exit()\n",
    "\n",
    "\n",
    "w, h = int(cap.get(cv2.CAP_PROP_FRAME_WIDTH)), int(cap.get(cv2.CAP_PROP_FRAME_HEIGHT))\n",
    "fps = cap.get(cv2.CAP_PROP_FPS)\n",
    "\n",
    "print(\"frame width, height:\", w, h)\n",
    "print(\"fps : \", fps)\n",
    "\n",
    "delay = round(1000/fps)\n",
    "\n",
    "while True:\n",
    "    ret, frame = cap.read()\n",
    "    \n",
    "    if not ret:\n",
    "        break;\n",
    "        \n",
    "    inversed = ~frame\n",
    "    \n",
    "    cv2.imshow(\"frame\", frame)\n",
    "    cv2.imshow(\"inversed\", inversed)\n",
    "    \n",
    "    if cv2.waitKey(delay) == 27: #sleep 효과\n",
    "        break\n",
    "\n",
    "if cap.isOpened():\n",
    "    cap.release()\n",
    "\n",
    "cv2.destroyAllWindows()"
   ]
  },
  {
   "cell_type": "markdown",
   "id": "9d77eb4b",
   "metadata": {},
   "source": [
    "### 동영상 저장"
   ]
  },
  {
   "cell_type": "code",
   "execution_count": 4,
   "id": "7622826f",
   "metadata": {},
   "outputs": [
    {
     "name": "stdout",
     "output_type": "stream",
     "text": [
      "frame width, height: 640 480\n",
      "fps :  30.0\n"
     ]
    }
   ],
   "source": [
    "cap = cv2.VideoCapture(0) # 카메라 디바이스, 동영상 파일명, 스트리밍 주소\n",
    "\n",
    "if not cap.isOpened():\n",
    "    print(\"Camera open failed!!\")\n",
    "    sys.exit()\n",
    "\n",
    "\n",
    "w, h = int(cap.get(cv2.CAP_PROP_FRAME_WIDTH)), int(cap.get(cv2.CAP_PROP_FRAME_HEIGHT))\n",
    "fps = cap.get(cv2.CAP_PROP_FPS)\n",
    "print(\"frame width, height:\", w, h)\n",
    "print(\"fps : \", fps)\n",
    "\n",
    "\n",
    "fourcc = cv2.VideoWriter_fourcc(*\"DIVX\")\n",
    "\n",
    "outputVideo = cv2.VideoWriter('./out/output2.avi', fourcc, fps, (w, h))\n",
    "\n",
    "while True:\n",
    "    ret, frame = cap.read()\n",
    "    \n",
    "    if not ret:\n",
    "        break;d\n",
    "    \n",
    "    inversed = ~frame\n",
    "    \n",
    "    outputVideo.write(inversed)\n",
    "    \n",
    "    cv2.imshow(\"frame\", frame)\n",
    "    cv2.imshow(\"inversed\", inversed)\n",
    "    \n",
    "    if cv2.waitKey(10) == 27: #sleep 효과\n",
    "        break\n",
    "\n",
    "if cap.isOpened():\n",
    "    cap.release()\n",
    "    \n",
    "outputVideo.release()\n",
    "cv2.destroyAllWindows()"
   ]
  },
  {
   "cell_type": "code",
   "execution_count": null,
   "id": "fa58784c",
   "metadata": {},
   "outputs": [],
   "source": []
  },
  {
   "cell_type": "code",
   "execution_count": null,
   "id": "1ab560a8",
   "metadata": {},
   "outputs": [],
   "source": []
  },
  {
   "cell_type": "code",
   "execution_count": null,
   "id": "14e35e1c",
   "metadata": {},
   "outputs": [],
   "source": []
  },
  {
   "cell_type": "code",
   "execution_count": null,
   "id": "39a3859e",
   "metadata": {},
   "outputs": [],
   "source": []
  },
  {
   "cell_type": "code",
   "execution_count": null,
   "id": "0c910240",
   "metadata": {},
   "outputs": [],
   "source": []
  }
 ],
 "metadata": {
  "kernelspec": {
   "display_name": "Python 3 (ipykernel)",
   "language": "python",
   "name": "python3"
  },
  "language_info": {
   "codemirror_mode": {
    "name": "ipython",
    "version": 3
   },
   "file_extension": ".py",
   "mimetype": "text/x-python",
   "name": "python",
   "nbconvert_exporter": "python",
   "pygments_lexer": "ipython3",
   "version": "3.9.7"
  }
 },
 "nbformat": 4,
 "nbformat_minor": 5
}
